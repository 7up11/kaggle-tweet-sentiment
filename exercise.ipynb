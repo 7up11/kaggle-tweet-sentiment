{
 "cells": [
  {
   "cell_type": "code",
   "execution_count": 1,
   "id": "cb7b5c32-53e7-46a6-8fc1-c1a0f399d4cb",
   "metadata": {},
   "outputs": [
    {
     "name": "stderr",
     "output_type": "stream",
     "text": [
      "/home/yu/kaggle-tweet-sentiment/.venv/lib64/python3.12/site-packages/tqdm/auto.py:21: TqdmWarning: IProgress not found. Please update jupyter and ipywidgets. See https://ipywidgets.readthedocs.io/en/stable/user_install.html\n",
      "  from .autonotebook import tqdm as notebook_tqdm\n",
      "2025-01-26 23:28:55.403173: E external/local_xla/xla/stream_executor/cuda/cuda_fft.cc:477] Unable to register cuFFT factory: Attempting to register factory for plugin cuFFT when one has already been registered\n",
      "WARNING: All log messages before absl::InitializeLog() is called are written to STDERR\n",
      "E0000 00:00:1737952135.422076  448621 cuda_dnn.cc:8310] Unable to register cuDNN factory: Attempting to register factory for plugin cuDNN when one has already been registered\n",
      "E0000 00:00:1737952135.426755  448621 cuda_blas.cc:1418] Unable to register cuBLAS factory: Attempting to register factory for plugin cuBLAS when one has already been registered\n",
      "2025-01-26 23:28:55.458242: I tensorflow/core/platform/cpu_feature_guard.cc:210] This TensorFlow binary is optimized to use available CPU instructions in performance-critical operations.\n",
      "To enable the following instructions: AVX2 FMA, in other operations, rebuild TensorFlow with the appropriate compiler flags.\n"
     ]
    }
   ],
   "source": [
    "from sklearn.model_selection import train_test_split\n",
    "from transformers import TFBertTokenizer, TFBertModel\n",
    "import pandas as pd\n",
    "import numpy as np\n",
    "import tensorflow as tf"
   ]
  },
  {
   "cell_type": "code",
   "execution_count": 2,
   "id": "72ec501c-4145-4e78-ac9e-295391bde66c",
   "metadata": {},
   "outputs": [
    {
     "name": "stdout",
     "output_type": "stream",
     "text": [
      "<class 'pandas.core.frame.DataFrame'>\n",
      "Index: 23358 entries, 4832 to 10986\n",
      "Data columns (total 4 columns):\n",
      " #   Column         Non-Null Count  Dtype \n",
      "---  ------         --------------  ----- \n",
      " 0   textID         23358 non-null  object\n",
      " 1   text           23358 non-null  object\n",
      " 2   selected_text  23358 non-null  object\n",
      " 3   sentiment      23358 non-null  object\n",
      "dtypes: object(4)\n",
      "memory usage: 912.4+ KB\n",
      "None\n",
      "<class 'pandas.core.frame.DataFrame'>\n",
      "Index: 4122 entries, 2611 to 10961\n",
      "Data columns (total 4 columns):\n",
      " #   Column         Non-Null Count  Dtype \n",
      "---  ------         --------------  ----- \n",
      " 0   textID         4122 non-null   object\n",
      " 1   text           4122 non-null   object\n",
      " 2   selected_text  4122 non-null   object\n",
      " 3   sentiment      4122 non-null   object\n",
      "dtypes: object(4)\n",
      "memory usage: 161.0+ KB\n",
      "None\n",
      "<class 'pandas.core.frame.DataFrame'>\n",
      "RangeIndex: 3534 entries, 0 to 3533\n",
      "Data columns (total 3 columns):\n",
      " #   Column     Non-Null Count  Dtype \n",
      "---  ------     --------------  ----- \n",
      " 0   textID     3534 non-null   object\n",
      " 1   text       3534 non-null   object\n",
      " 2   sentiment  3534 non-null   object\n",
      "dtypes: object(3)\n",
      "memory usage: 83.0+ KB\n",
      "None\n"
     ]
    }
   ],
   "source": [
    "train = pd.read_csv(\"data1/train.csv\").dropna()\n",
    "submission = pd.read_csv(\"data1/test.csv\").dropna()\n",
    "train, test = train_test_split(train, test_size=0.15)\n",
    "print(train.info())\n",
    "print(test.info())\n",
    "print(submission.info())\n",
    "# TODO see if selected_text needs to be fixed to word boundaries"
   ]
  },
  {
   "cell_type": "code",
   "execution_count": 3,
   "id": "7d49cf58-d62e-4887-b8dc-b120016513b3",
   "metadata": {},
   "outputs": [
    {
     "name": "stderr",
     "output_type": "stream",
     "text": [
      "2025-01-26 23:28:57.762713: I tensorflow_text/core/kernels/fast_bert_normalizer_model_builder.cc:211] CharacterSet built (lower_case_nfd_strip_accents=0). Trie data size (int32): 512. Normalized string pool size (byte): 1\n",
      "I0000 00:00:1737952138.241449  448621 gpu_device.cc:2022] Created device /job:localhost/replica:0/task:0/device:GPU:0 with 21781 MB memory:  -> device: 0, name: NVIDIA GeForce RTX 3090, pci bus id: 0000:01:00.0, compute capability: 8.6\n"
     ]
    },
    {
     "name": "stdout",
     "output_type": "stream",
     "text": [
      "GPU memory usage 0.00.\n"
     ]
    }
   ],
   "source": [
    "max_text_len = 128\n",
    "span_indices_size = max_text_len * (max_text_len + 1) // 2\n",
    "span_indices = np.zeros((max_text_len, max_text_len), dtype=int)\n",
    "span_indices[np.triu_indices(max_text_len, m=max_text_len)] = np.arange(span_indices_size)\n",
    "span_indices = np.flip(span_indices, axis=1)\n",
    "tokenizer = TFBertTokenizer.from_pretrained(\"bert-base-cased\")\n",
    "\n",
    "def tokenize(texts):\n",
    "    return tokenizer(texts, padding=\"max_length\", max_length=max_text_len)\n",
    "\n",
    "def detokenize(ids, skip_special=True):\n",
    "    return tokenizer.batch_decode(ids, skip_special_tokens=skip_special)\n",
    "\n",
    "# https://stackoverflow.com/a/7100681\n",
    "def rolling_window(a, size):\n",
    "    shape = a.shape[:-1] + (a.shape[-1] - size + 1, size)\n",
    "    strides = a.strides + (a. strides[-1],)\n",
    "    return np.lib.stride_tricks.as_strided(a, shape=shape, strides=strides)\n",
    "\n",
    "def find_span(texts, spans):\n",
    "    texts = np.array(texts)\n",
    "    spans = np.array(spans)[:, 1:]\n",
    "    sizes = spans.argmin(axis=1) - 1\n",
    "    span_onehot = np.zeros((texts.shape[0], span_indices_size))\n",
    "    for i, text in enumerate(texts):\n",
    "        window_size = sizes[i]\n",
    "        matched_window = rolling_window(texts[i], window_size) == spans[i][:window_size]\n",
    "        window_from = matched_window.all(axis=1).argmax()\n",
    "        window_to = window_size - 1\n",
    "        try:\n",
    "            span_onehot[i, span_indices[window_from, window_to]] = 1\n",
    "        except IndexError as e:\n",
    "            print(window_from, window_to, span_indices[window_from, window_to])\n",
    "            raise e\n",
    "    return span_onehot\n",
    "\n",
    "def find_y(texts, selected_texts):\n",
    "    return find_span(texts[\"input_ids\"], selected_texts[\"input_ids\"])\n",
    "\n",
    "def span_range(index):\n",
    "    [d1], [d2] = np.where(span_indices == index)\n",
    "    return d1, d1 + d2 + 1\n",
    "\n",
    "def print_mem_info():\n",
    "    info = tf.config.experimental.get_memory_info(\"/gpu:0\")\n",
    "    print(f\"GPU memory usage {(info[\"current\"] / info[\"peak\"]):.2f}.\")\n",
    "\n",
    "tokens_train = tokenize(train.text.to_list())\n",
    "tokens_test = tokenize(test.text.to_list())\n",
    "selected_tokens_train = tokenize(train.selected_text.to_list())\n",
    "selected_tokens_test = tokenize(test.selected_text.to_list())\n",
    "y_train = find_y(tokens_train, selected_tokens_train)\n",
    "y_test = find_y(tokens_test, selected_tokens_test)\n",
    "\n",
    "tokenizer = None\n",
    "print_mem_info()"
   ]
  },
  {
   "cell_type": "code",
   "execution_count": 4,
   "id": "4e8f5fb8-ecf7-4f56-bc8f-5d1614269a21",
   "metadata": {},
   "outputs": [
    {
     "name": "stderr",
     "output_type": "stream",
     "text": [
      "Some weights of the PyTorch model were not used when initializing the TF 2.0 model TFBertModel: ['cls.predictions.transform.dense.weight', 'cls.seq_relationship.bias', 'cls.predictions.transform.LayerNorm.weight', 'cls.seq_relationship.weight', 'cls.predictions.transform.dense.bias', 'cls.predictions.bias', 'cls.predictions.transform.LayerNorm.bias']\n",
      "- This IS expected if you are initializing TFBertModel from a PyTorch model trained on another task or with another architecture (e.g. initializing a TFBertForSequenceClassification model from a BertForPreTraining model).\n",
      "- This IS NOT expected if you are initializing TFBertModel from a PyTorch model that you expect to be exactly identical (e.g. initializing a TFBertForSequenceClassification model from a BertForSequenceClassification model).\n",
      "All the weights of TFBertModel were initialized from the PyTorch model.\n",
      "If your task is similar to the task the model of the checkpoint was trained on, you can already use TFBertModel for predictions without further training.\n",
      "2025-01-26 23:29:03.786047: W external/local_xla/xla/tsl/framework/cpu_allocator_impl.cc:83] Allocation of 786432000 exceeds 10% of free system memory.\n",
      "2025-01-26 23:29:04.195847: W external/local_xla/xla/tsl/framework/cpu_allocator_impl.cc:83] Allocation of 786432000 exceeds 10% of free system memory.\n",
      "2025-01-26 23:29:07.377508: W external/local_xla/xla/tsl/framework/cpu_allocator_impl.cc:83] Allocation of 786432000 exceeds 10% of free system memory.\n",
      "2025-01-26 23:29:10.577438: W external/local_xla/xla/tsl/framework/cpu_allocator_impl.cc:83] Allocation of 786432000 exceeds 10% of free system memory.\n",
      "2025-01-26 23:29:13.783420: W external/local_xla/xla/tsl/framework/cpu_allocator_impl.cc:83] Allocation of 786432000 exceeds 10% of free system memory.\n"
     ]
    }
   ],
   "source": [
    "batch_size = 2000\n",
    "encoder = TFBertModel.from_pretrained(\"bert-base-cased\")\n",
    "\n",
    "def batch_inference(tokens, one=False):\n",
    "    total = tokens[\"input_ids\"].shape[0]\n",
    "    stack = []\n",
    "    while batch_size * len(stack) < total:\n",
    "        start, end = min(batch_size, total - batch_size * len(stack)) * np.array([0, 1]) + batch_size * len(stack)\n",
    "        batch = {k: v[start:end] for k, v in tokens.items()}\n",
    "        outputs = encoder(batch).last_hidden_state\n",
    "        with tf.device(\"/cpu:0\"):\n",
    "            stack.append(tf.identity(outputs))\n",
    "        if one:\n",
    "            break\n",
    "    return tf.concat(stack, 0)\n",
    "\n",
    "outputs = batch_inference(tokens_train)"
   ]
  },
  {
   "cell_type": "code",
   "execution_count": 5,
   "id": "6edb677f-b6f0-4e83-8871-b9a06a9079f2",
   "metadata": {},
   "outputs": [
    {
     "data": {
      "text/plain": [
       "TensorShape([23358, 128, 768])"
      ]
     },
     "execution_count": 5,
     "metadata": {},
     "output_type": "execute_result"
    }
   ],
   "source": [
    "outputs.shape"
   ]
  },
  {
   "cell_type": "code",
   "execution_count": 6,
   "id": "318bdce4-6edb-48ca-92ea-b4492021dd96",
   "metadata": {},
   "outputs": [],
   "source": [
    "np.save(\"context1\", outputs[:11679].numpy())\n",
    "np.save(\"context2\", outputs[11679:].numpy())"
   ]
  },
  {
   "cell_type": "code",
   "execution_count": null,
   "id": "b3744941-8b70-4c3d-8475-b58aea00ccc9",
   "metadata": {},
   "outputs": [],
   "source": []
  }
 ],
 "metadata": {
  "kernelspec": {
   "display_name": "Python 3 (ipykernel)",
   "language": "python",
   "name": "python3"
  },
  "language_info": {
   "codemirror_mode": {
    "name": "ipython",
    "version": 3
   },
   "file_extension": ".py",
   "mimetype": "text/x-python",
   "name": "python",
   "nbconvert_exporter": "python",
   "pygments_lexer": "ipython3",
   "version": "3.12.8"
  }
 },
 "nbformat": 4,
 "nbformat_minor": 5
}
