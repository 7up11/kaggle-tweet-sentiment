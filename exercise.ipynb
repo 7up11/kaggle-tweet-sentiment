{
 "cells": [
  {
   "cell_type": "code",
   "execution_count": 24,
   "id": "cb7b5c32-53e7-46a6-8fc1-c1a0f399d4cb",
   "metadata": {},
   "outputs": [],
   "source": [
    "from matplotlib import pyplot as plt\n",
    "from sklearn.model_selection import train_test_split\n",
    "from transformers import BertTokenizer\n",
    "from keras.layers import Input, Dense\n",
    "import pandas as pd"
   ]
  },
  {
   "cell_type": "code",
   "execution_count": 11,
   "id": "72ec501c-4145-4e78-ac9e-295391bde66c",
   "metadata": {},
   "outputs": [],
   "source": [
    "train = pd.read_csv(\"train.csv\").dropna()\n",
    "test = pd.read_csv(\"test.csv\").dropna()\n",
    "\n",
    "def append_sentiment(df):\n",
    "    return df.sentiment.str.strip() + \" \" + df.text.str.strip()\n",
    "\n",
    "train[\"text\"] = append_sentiment(train)\n",
    "train[\"selected_from\"] = train.apply(lambda x: x.text.find(x.selected_text), axis=1)\n",
    "train[\"selected_to\"] = train.apply(lambda x: x.selected_from + len(x.selected_text), axis=1)\n",
    "x_train = train.text\n",
    "y_train = train[[\"selected_from\", \"selected_to\"]]\n",
    "x_train, x_validation, y_train, y_validation = train_test_split(x_train, y_train, test_size=0.15)"
   ]
  },
  {
   "cell_type": "code",
   "execution_count": 27,
   "id": "f7201dd8-2341-4f39-860f-10c100ff0d8a",
   "metadata": {},
   "outputs": [],
   "source": [
    "tokenizer = BertTokenizer.from_pretrained(\"bert-base-cased\")\n",
    "embedding = tokenizer(x_train.to_list(), padding=\"max_length\", max_length=256, truncation=True)"
   ]
  },
  {
   "cell_type": "code",
   "execution_count": 29,
   "id": "9c57ca33-c66a-4143-8791-af2735b32780",
   "metadata": {},
   "outputs": [
    {
     "data": {
      "text/plain": [
       "256"
      ]
     },
     "execution_count": 29,
     "metadata": {},
     "output_type": "execute_result"
    }
   ],
   "source": []
  },
  {
   "cell_type": "code",
   "execution_count": null,
   "id": "2a33692c-ffcc-4363-9d80-1d7ff3e79d40",
   "metadata": {},
   "outputs": [],
   "source": []
  }
 ],
 "metadata": {
  "kernelspec": {
   "display_name": "Python 3 (ipykernel)",
   "language": "python",
   "name": "python3"
  },
  "language_info": {
   "codemirror_mode": {
    "name": "ipython",
    "version": 3
   },
   "file_extension": ".py",
   "mimetype": "text/x-python",
   "name": "python",
   "nbconvert_exporter": "python",
   "pygments_lexer": "ipython3",
   "version": "3.12.8"
  }
 },
 "nbformat": 4,
 "nbformat_minor": 5
}
