{
 "cells": [
  {
   "cell_type": "code",
   "execution_count": 1,
   "id": "cb7b5c32-53e7-46a6-8fc1-c1a0f399d4cb",
   "metadata": {},
   "outputs": [
    {
     "name": "stderr",
     "output_type": "stream",
     "text": [
      "/home/yu/kaggle-tweet-sentiment/.venv/lib64/python3.12/site-packages/tqdm/auto.py:21: TqdmWarning: IProgress not found. Please update jupyter and ipywidgets. See https://ipywidgets.readthedocs.io/en/stable/user_install.html\n",
      "  from .autonotebook import tqdm as notebook_tqdm\n",
      "2025-01-28 15:30:03.867741: E external/local_xla/xla/stream_executor/cuda/cuda_fft.cc:477] Unable to register cuFFT factory: Attempting to register factory for plugin cuFFT when one has already been registered\n",
      "WARNING: All log messages before absl::InitializeLog() is called are written to STDERR\n",
      "E0000 00:00:1738096203.912444    9693 cuda_dnn.cc:8310] Unable to register cuDNN factory: Attempting to register factory for plugin cuDNN when one has already been registered\n",
      "E0000 00:00:1738096203.924504    9693 cuda_blas.cc:1418] Unable to register cuBLAS factory: Attempting to register factory for plugin cuBLAS when one has already been registered\n",
      "2025-01-28 15:30:03.999128: I tensorflow/core/platform/cpu_feature_guard.cc:210] This TensorFlow binary is optimized to use available CPU instructions in performance-critical operations.\n",
      "To enable the following instructions: AVX2 FMA, in other operations, rebuild TensorFlow with the appropriate compiler flags.\n"
     ]
    }
   ],
   "source": [
    "from transformers import TFBertTokenizer, TFBertModel\n",
    "from tensorflow import keras\n",
    "from tensorflow.keras import layers, losses, optimizers, metrics\n",
    "import pandas as pd\n",
    "import numpy as np\n",
    "import tensorflow as tf"
   ]
  },
  {
   "cell_type": "code",
   "execution_count": 2,
   "id": "72ec501c-4145-4e78-ac9e-295391bde66c",
   "metadata": {},
   "outputs": [
    {
     "name": "stdout",
     "output_type": "stream",
     "text": [
      "<class 'pandas.core.frame.DataFrame'>\n",
      "Index: 10000 entries, 0 to 10000\n",
      "Data columns (total 4 columns):\n",
      " #   Column         Non-Null Count  Dtype \n",
      "---  ------         --------------  ----- \n",
      " 0   textID         10000 non-null  object\n",
      " 1   text           10000 non-null  object\n",
      " 2   selected_text  10000 non-null  object\n",
      " 3   sentiment      10000 non-null  object\n",
      "dtypes: object(4)\n",
      "memory usage: 390.6+ KB\n",
      "None\n",
      "<class 'pandas.core.frame.DataFrame'>\n",
      "RangeIndex: 3534 entries, 0 to 3533\n",
      "Data columns (total 3 columns):\n",
      " #   Column     Non-Null Count  Dtype \n",
      "---  ------     --------------  ----- \n",
      " 0   textID     3534 non-null   object\n",
      " 1   text       3534 non-null   object\n",
      " 2   sentiment  3534 non-null   object\n",
      "dtypes: object(3)\n",
      "memory usage: 83.0+ KB\n",
      "None\n"
     ]
    }
   ],
   "source": [
    "train = pd.read_csv(\"data1/train.csv\").dropna().iloc[:10000]\n",
    "submission = pd.read_csv(\"data1/test.csv\").dropna()\n",
    "print(train.info())\n",
    "print(submission.info())\n",
    "# TODO see if selected_text needs to be fixed to word boundaries"
   ]
  },
  {
   "cell_type": "code",
   "execution_count": 3,
   "id": "7d49cf58-d62e-4887-b8dc-b120016513b3",
   "metadata": {},
   "outputs": [
    {
     "name": "stderr",
     "output_type": "stream",
     "text": [
      "2025-01-28 15:30:24.419327: I tensorflow_text/core/kernels/fast_bert_normalizer_model_builder.cc:211] CharacterSet built (lower_case_nfd_strip_accents=0). Trie data size (int32): 512. Normalized string pool size (byte): 1\n",
      "I0000 00:00:1738096224.821500    9693 gpu_device.cc:2022] Created device /job:localhost/replica:0/task:0/device:GPU:0 with 21904 MB memory:  -> device: 0, name: NVIDIA GeForce RTX 3090, pci bus id: 0000:01:00.0, compute capability: 8.6\n"
     ]
    },
    {
     "name": "stdout",
     "output_type": "stream",
     "text": [
      "GPU memory usage 0.00.\n"
     ]
    }
   ],
   "source": [
    "max_text_len = 128\n",
    "span_indices_size = max_text_len * (max_text_len + 1) // 2\n",
    "span_indices = np.zeros((max_text_len, max_text_len), dtype=int)\n",
    "span_indices[np.triu_indices(max_text_len, m=max_text_len)] = np.arange(span_indices_size)\n",
    "span_indices = np.flip(span_indices, axis=1)\n",
    "tokenizer = TFBertTokenizer.from_pretrained(\"bert-base-cased\")\n",
    "\n",
    "def tokenize(texts):\n",
    "    return tokenizer(texts, padding=\"max_length\", max_length=max_text_len)\n",
    "\n",
    "def detokenize(ids, skip_special=True):\n",
    "    return tokenizer.batch_decode(ids, skip_special_tokens=skip_special)\n",
    "\n",
    "# https://stackoverflow.com/a/7100681\n",
    "def rolling_window(a, size):\n",
    "    shape = a.shape[:-1] + (a.shape[-1] - size + 1, size)\n",
    "    strides = a.strides + (a. strides[-1],)\n",
    "    return np.lib.stride_tricks.as_strided(a, shape=shape, strides=strides)\n",
    "\n",
    "def find_span(texts, spans):\n",
    "    texts = np.array(texts)\n",
    "    spans = np.array(spans)[:, 1:]\n",
    "    sizes = spans.argmin(axis=1) - 1\n",
    "    span_onehot = np.zeros((texts.shape[0], span_indices_size))\n",
    "    for i, text in enumerate(texts):\n",
    "        window_size = sizes[i]\n",
    "        matched_window = rolling_window(texts[i], window_size) == spans[i][:window_size]\n",
    "        window_from = matched_window.all(axis=1).argmax()\n",
    "        window_to = window_size - 1\n",
    "        try:\n",
    "            span_onehot[i, span_indices[window_from, window_to]] = 1\n",
    "        except IndexError as e:\n",
    "            print(window_from, window_to, span_indices[window_from, window_to])\n",
    "            raise e\n",
    "    return span_onehot\n",
    "\n",
    "def find_y(texts, selected_texts):\n",
    "    return find_span(texts[\"input_ids\"], selected_texts[\"input_ids\"])\n",
    "\n",
    "def span_range(index):\n",
    "    [d1], [d2] = np.where(span_indices == index)\n",
    "    return d1, d1 + d2 + 1\n",
    "\n",
    "def print_mem_info():\n",
    "    info = tf.config.experimental.get_memory_info(\"/gpu:0\")\n",
    "    print(f\"GPU memory usage {(info[\"current\"] / info[\"peak\"]):.2f}.\")\n",
    "\n",
    "tokens_train = tokenize(train.text.to_list())\n",
    "selected_tokens_train = tokenize(train.selected_text.to_list())\n",
    "y_train = find_y(tokens_train, selected_tokens_train)\n",
    "\n",
    "tokenizer = None\n",
    "print_mem_info()"
   ]
  },
  {
   "cell_type": "code",
   "execution_count": 4,
   "id": "4e8f5fb8-ecf7-4f56-bc8f-5d1614269a21",
   "metadata": {},
   "outputs": [
    {
     "name": "stderr",
     "output_type": "stream",
     "text": [
      "Some weights of the PyTorch model were not used when initializing the TF 2.0 model TFBertModel: ['cls.predictions.transform.LayerNorm.bias', 'cls.predictions.transform.dense.bias', 'cls.predictions.transform.LayerNorm.weight', 'cls.seq_relationship.weight', 'cls.predictions.transform.dense.weight', 'cls.predictions.bias', 'cls.seq_relationship.bias']\n",
      "- This IS expected if you are initializing TFBertModel from a PyTorch model trained on another task or with another architecture (e.g. initializing a TFBertForSequenceClassification model from a BertForPreTraining model).\n",
      "- This IS NOT expected if you are initializing TFBertModel from a PyTorch model that you expect to be exactly identical (e.g. initializing a TFBertForSequenceClassification model from a BertForSequenceClassification model).\n",
      "All the weights of TFBertModel were initialized from the PyTorch model.\n",
      "If your task is similar to the task the model of the checkpoint was trained on, you can already use TFBertModel for predictions without further training.\n"
     ]
    },
    {
     "name": "stdout",
     "output_type": "stream",
     "text": [
      "GPU memory usage 0.24.\n"
     ]
    }
   ],
   "source": [
    "batch_size = 2000\n",
    "encoder = TFBertModel.from_pretrained(\"bert-base-cased\")\n",
    "\n",
    "def batch_inference(tokens, one=False):\n",
    "    total = tokens[\"input_ids\"].shape[0]\n",
    "    stack = []\n",
    "    while batch_size * len(stack) < total:\n",
    "        start, end = min(batch_size, total - batch_size * len(stack)) * np.array([0, 1]) + batch_size * len(stack)\n",
    "        batch = {k: v[start:end] for k, v in tokens.items()}\n",
    "        outputs = encoder(batch).last_hidden_state\n",
    "        with tf.device(\"/cpu:0\"):\n",
    "            stack.append(tf.identity(outputs))\n",
    "        if one:\n",
    "            break\n",
    "    return tf.concat(stack, 0)\n",
    "\n",
    "contexts_train = batch_inference(tokens_train)\n",
    "encoder = None\n",
    "print_mem_info()"
   ]
  },
  {
   "cell_type": "code",
   "execution_count": 5,
   "id": "6edb677f-b6f0-4e83-8871-b9a06a9079f2",
   "metadata": {},
   "outputs": [
    {
     "data": {
      "text/plain": [
       "TensorShape([10000, 128, 768])"
      ]
     },
     "execution_count": 5,
     "metadata": {},
     "output_type": "execute_result"
    }
   ],
   "source": [
    "contexts_train.shape"
   ]
  },
  {
   "cell_type": "code",
   "execution_count": 6,
   "id": "318bdce4-6edb-48ca-92ea-b4492021dd96",
   "metadata": {},
   "outputs": [],
   "source": [
    "# tf.data.Dataset.from_tensors(contexts_train).save(\"contexts\")"
   ]
  },
  {
   "cell_type": "code",
   "execution_count": 11,
   "id": "98313e89-cfa9-4bd9-bf5b-6f305ea0d7e6",
   "metadata": {},
   "outputs": [
    {
     "name": "stderr",
     "output_type": "stream",
     "text": [
      "2025-01-28 15:34:51.718036: W external/local_xla/xla/tsl/framework/cpu_allocator_impl.cc:83] Allocation of 3145728000 exceeds 10% of free system memory.\n"
     ]
    },
    {
     "name": "stdout",
     "output_type": "stream",
     "text": [
      "Epoch 1/20\n",
      "\u001b[1m500/500\u001b[0m \u001b[32m━━━━━━━━━━━━━━━━━━━━\u001b[0m\u001b[37m\u001b[0m \u001b[1m3s\u001b[0m 5ms/step - categorical_accuracy: 0.1347 - categorical_crossentropy: 5.6634 - loss: 5.6634 - val_categorical_accuracy: 0.1855 - val_categorical_crossentropy: 4.7566 - val_loss: 4.7566\n",
      "Epoch 2/20\n",
      "\u001b[1m500/500\u001b[0m \u001b[32m━━━━━━━━━━━━━━━━━━━━\u001b[0m\u001b[37m\u001b[0m \u001b[1m2s\u001b[0m 4ms/step - categorical_accuracy: 0.2659 - categorical_crossentropy: 4.0260 - loss: 4.0260 - val_categorical_accuracy: 0.2755 - val_categorical_crossentropy: 4.5840 - val_loss: 4.5840\n",
      "Epoch 3/20\n",
      "\u001b[1m500/500\u001b[0m \u001b[32m━━━━━━━━━━━━━━━━━━━━\u001b[0m\u001b[37m\u001b[0m \u001b[1m2s\u001b[0m 4ms/step - categorical_accuracy: 0.3336 - categorical_crossentropy: 3.5028 - loss: 3.5028 - val_categorical_accuracy: 0.2725 - val_categorical_crossentropy: 4.6635 - val_loss: 4.6635\n",
      "Epoch 4/20\n",
      "\u001b[1m500/500\u001b[0m \u001b[32m━━━━━━━━━━━━━━━━━━━━\u001b[0m\u001b[37m\u001b[0m \u001b[1m2s\u001b[0m 4ms/step - categorical_accuracy: 0.3784 - categorical_crossentropy: 3.1597 - loss: 3.1597 - val_categorical_accuracy: 0.2765 - val_categorical_crossentropy: 4.7769 - val_loss: 4.7769\n",
      "Epoch 5/20\n",
      "\u001b[1m500/500\u001b[0m \u001b[32m━━━━━━━━━━━━━━━━━━━━\u001b[0m\u001b[37m\u001b[0m \u001b[1m2s\u001b[0m 4ms/step - categorical_accuracy: 0.4119 - categorical_crossentropy: 2.8919 - loss: 2.8919 - val_categorical_accuracy: 0.2875 - val_categorical_crossentropy: 4.8214 - val_loss: 4.8214\n",
      "Epoch 6/20\n",
      "\u001b[1m500/500\u001b[0m \u001b[32m━━━━━━━━━━━━━━━━━━━━\u001b[0m\u001b[37m\u001b[0m \u001b[1m2s\u001b[0m 4ms/step - categorical_accuracy: 0.4603 - categorical_crossentropy: 2.5616 - loss: 2.5616 - val_categorical_accuracy: 0.2780 - val_categorical_crossentropy: 5.2221 - val_loss: 5.2221\n",
      "Epoch 7/20\n",
      "\u001b[1m500/500\u001b[0m \u001b[32m━━━━━━━━━━━━━━━━━━━━\u001b[0m\u001b[37m\u001b[0m \u001b[1m2s\u001b[0m 4ms/step - categorical_accuracy: 0.4845 - categorical_crossentropy: 2.3902 - loss: 2.3902 - val_categorical_accuracy: 0.2675 - val_categorical_crossentropy: 5.8702 - val_loss: 5.8702\n",
      "Epoch 8/20\n",
      "\u001b[1m500/500\u001b[0m \u001b[32m━━━━━━━━━━━━━━━━━━━━\u001b[0m\u001b[37m\u001b[0m \u001b[1m2s\u001b[0m 4ms/step - categorical_accuracy: 0.5217 - categorical_crossentropy: 2.1595 - loss: 2.1595 - val_categorical_accuracy: 0.2600 - val_categorical_crossentropy: 6.0369 - val_loss: 6.0369\n",
      "Epoch 9/20\n",
      "\u001b[1m500/500\u001b[0m \u001b[32m━━━━━━━━━━━━━━━━━━━━\u001b[0m\u001b[37m\u001b[0m \u001b[1m2s\u001b[0m 4ms/step - categorical_accuracy: 0.5494 - categorical_crossentropy: 2.0199 - loss: 2.0199 - val_categorical_accuracy: 0.2730 - val_categorical_crossentropy: 6.4003 - val_loss: 6.4003\n",
      "Epoch 10/20\n",
      "\u001b[1m500/500\u001b[0m \u001b[32m━━━━━━━━━━━━━━━━━━━━\u001b[0m\u001b[37m\u001b[0m \u001b[1m2s\u001b[0m 4ms/step - categorical_accuracy: 0.5689 - categorical_crossentropy: 1.8950 - loss: 1.8950 - val_categorical_accuracy: 0.2810 - val_categorical_crossentropy: 6.6736 - val_loss: 6.6736\n",
      "Epoch 11/20\n",
      "\u001b[1m500/500\u001b[0m \u001b[32m━━━━━━━━━━━━━━━━━━━━\u001b[0m\u001b[37m\u001b[0m \u001b[1m2s\u001b[0m 4ms/step - categorical_accuracy: 0.5872 - categorical_crossentropy: 1.7929 - loss: 1.7929 - val_categorical_accuracy: 0.2390 - val_categorical_crossentropy: 6.7516 - val_loss: 6.7516\n",
      "Epoch 12/20\n",
      "\u001b[1m500/500\u001b[0m \u001b[32m━━━━━━━━━━━━━━━━━━━━\u001b[0m\u001b[37m\u001b[0m \u001b[1m2s\u001b[0m 4ms/step - categorical_accuracy: 0.5964 - categorical_crossentropy: 1.7396 - loss: 1.7396 - val_categorical_accuracy: 0.2520 - val_categorical_crossentropy: 7.8285 - val_loss: 7.8285\n",
      "Epoch 13/20\n",
      "\u001b[1m500/500\u001b[0m \u001b[32m━━━━━━━━━━━━━━━━━━━━\u001b[0m\u001b[37m\u001b[0m \u001b[1m2s\u001b[0m 4ms/step - categorical_accuracy: 0.6116 - categorical_crossentropy: 1.6754 - loss: 1.6754 - val_categorical_accuracy: 0.2745 - val_categorical_crossentropy: 8.1399 - val_loss: 8.1399\n",
      "Epoch 14/20\n",
      "\u001b[1m500/500\u001b[0m \u001b[32m━━━━━━━━━━━━━━━━━━━━\u001b[0m\u001b[37m\u001b[0m \u001b[1m2s\u001b[0m 4ms/step - categorical_accuracy: 0.6192 - categorical_crossentropy: 1.6226 - loss: 1.6226 - val_categorical_accuracy: 0.2490 - val_categorical_crossentropy: 8.2127 - val_loss: 8.2127\n",
      "Epoch 15/20\n",
      "\u001b[1m500/500\u001b[0m \u001b[32m━━━━━━━━━━━━━━━━━━━━\u001b[0m\u001b[37m\u001b[0m \u001b[1m2s\u001b[0m 4ms/step - categorical_accuracy: 0.6382 - categorical_crossentropy: 1.5260 - loss: 1.5260 - val_categorical_accuracy: 0.2265 - val_categorical_crossentropy: 8.7716 - val_loss: 8.7716\n",
      "Epoch 16/20\n",
      "\u001b[1m500/500\u001b[0m \u001b[32m━━━━━━━━━━━━━━━━━━━━\u001b[0m\u001b[37m\u001b[0m \u001b[1m2s\u001b[0m 4ms/step - categorical_accuracy: 0.6367 - categorical_crossentropy: 1.5129 - loss: 1.5129 - val_categorical_accuracy: 0.2670 - val_categorical_crossentropy: 9.0347 - val_loss: 9.0347\n",
      "Epoch 17/20\n",
      "\u001b[1m500/500\u001b[0m \u001b[32m━━━━━━━━━━━━━━━━━━━━\u001b[0m\u001b[37m\u001b[0m \u001b[1m2s\u001b[0m 4ms/step - categorical_accuracy: 0.6601 - categorical_crossentropy: 1.4312 - loss: 1.4312 - val_categorical_accuracy: 0.2590 - val_categorical_crossentropy: 9.5518 - val_loss: 9.5518\n",
      "Epoch 18/20\n",
      "\u001b[1m500/500\u001b[0m \u001b[32m━━━━━━━━━━━━━━━━━━━━\u001b[0m\u001b[37m\u001b[0m \u001b[1m2s\u001b[0m 4ms/step - categorical_accuracy: 0.6693 - categorical_crossentropy: 1.3529 - loss: 1.3529 - val_categorical_accuracy: 0.2385 - val_categorical_crossentropy: 10.1238 - val_loss: 10.1238\n",
      "Epoch 19/20\n",
      "\u001b[1m500/500\u001b[0m \u001b[32m━━━━━━━━━━━━━━━━━━━━\u001b[0m\u001b[37m\u001b[0m \u001b[1m2s\u001b[0m 4ms/step - categorical_accuracy: 0.6630 - categorical_crossentropy: 1.3769 - loss: 1.3769 - val_categorical_accuracy: 0.2405 - val_categorical_crossentropy: 10.2329 - val_loss: 10.2329\n",
      "Epoch 20/20\n",
      "\u001b[1m500/500\u001b[0m \u001b[32m━━━━━━━━━━━━━━━━━━━━\u001b[0m\u001b[37m\u001b[0m \u001b[1m2s\u001b[0m 4ms/step - categorical_accuracy: 0.6615 - categorical_crossentropy: 1.4145 - loss: 1.4145 - val_categorical_accuracy: 0.2340 - val_categorical_crossentropy: 11.5601 - val_loss: 11.5601\n"
     ]
    }
   ],
   "source": [
    "inputs = keras.Input(shape=(max_text_len, 768))\n",
    "softmax = layers.Dense(span_indices_size, activation=\"softmax\")(\n",
    "          layers.Dense(128, activation=\"relu\")(\n",
    "          layers.Flatten()(\n",
    "          inputs)))\n",
    "ffn = keras.Model(inputs=inputs, outputs=softmax)\n",
    "ffn.compile(\n",
    "    optimizer=optimizers.Adam(),\n",
    "    loss=losses.CategoricalCrossentropy(),\n",
    "    metrics=[metrics.CategoricalAccuracy(), metrics.CategoricalCrossentropy()]\n",
    ")\n",
    "history = ffn.fit(contexts_train, y_train, batch_size=16, epochs=20, validation_split=0.2)"
   ]
  },
  {
   "cell_type": "code",
   "execution_count": null,
   "id": "cc613c17-5308-43d2-9faf-6446fe5f3218",
   "metadata": {},
   "outputs": [],
   "source": []
  }
 ],
 "metadata": {
  "kernelspec": {
   "display_name": "Python 3 (ipykernel)",
   "language": "python",
   "name": "python3"
  },
  "language_info": {
   "codemirror_mode": {
    "name": "ipython",
    "version": 3
   },
   "file_extension": ".py",
   "mimetype": "text/x-python",
   "name": "python",
   "nbconvert_exporter": "python",
   "pygments_lexer": "ipython3",
   "version": "3.12.8"
  }
 },
 "nbformat": 4,
 "nbformat_minor": 5
}
