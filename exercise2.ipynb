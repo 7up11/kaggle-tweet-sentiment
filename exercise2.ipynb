{
 "cells": [
  {
   "cell_type": "code",
   "execution_count": 4,
   "id": "953b3c38-cab2-4ac1-b16e-d9d8939b8608",
   "metadata": {},
   "outputs": [],
   "source": [
    "from matplotlib import pyplot as plt\n",
    "from sklearn.model_selection import train_test_split\n",
    "from transformers import BertTokenizer\n",
    "from keras.layers import Input, Dense\n",
    "from keras.losses import MeanSquaredError\n",
    "from keras import Model\n",
    "import pandas as pd\n",
    "import tensorflow as tf"
   ]
  },
  {
   "cell_type": "code",
   "execution_count": 11,
   "id": "39cd350c-7388-4668-99a7-7c324fa0cf4b",
   "metadata": {},
   "outputs": [],
   "source": [
    "def load(file):\n",
    "    df = pd.read_csv(file)\n",
    "    df[\"keyword\"] = df.keyword.fillna(value=\"\")\n",
    "    df[\"location\"] = df.location.fillna(value=\"\")\n",
    "    df[\"text\"] = df.keyword.str.strip() + \" \" + df.location.str.strip() + \" \" + df.text.str.strip()\n",
    "    return df\n",
    "\n",
    "train = load(\"data2/train.csv\")\n",
    "submission = load(\"data2/test.csv\")\n",
    "x_train, x_test, y_train, y_test = train_test_split(train.text, train.target)"
   ]
  },
  {
   "cell_type": "code",
   "execution_count": null,
   "id": "f53f8c7a-7368-4949-bf77-7ce1271a2f9a",
   "metadata": {},
   "outputs": [],
   "source": []
  }
 ],
 "metadata": {
  "kernelspec": {
   "display_name": "Python 3 (ipykernel)",
   "language": "python",
   "name": "python3"
  },
  "language_info": {
   "codemirror_mode": {
    "name": "ipython",
    "version": 3
   },
   "file_extension": ".py",
   "mimetype": "text/x-python",
   "name": "python",
   "nbconvert_exporter": "python",
   "pygments_lexer": "ipython3",
   "version": "3.12.8"
  }
 },
 "nbformat": 4,
 "nbformat_minor": 5
}
