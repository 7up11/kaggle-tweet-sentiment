{
 "cells": [
  {
   "cell_type": "code",
   "execution_count": 1,
   "id": "cb7b5c32-53e7-46a6-8fc1-c1a0f399d4cb",
   "metadata": {},
   "outputs": [
    {
     "name": "stderr",
     "output_type": "stream",
     "text": [
      "/home/yu/kaggle-tweet-sentiment/.venv/lib64/python3.12/site-packages/tqdm/auto.py:21: TqdmWarning: IProgress not found. Please update jupyter and ipywidgets. See https://ipywidgets.readthedocs.io/en/stable/user_install.html\n",
      "  from .autonotebook import tqdm as notebook_tqdm\n",
      "2025-02-02 12:05:11.850438: E external/local_xla/xla/stream_executor/cuda/cuda_fft.cc:477] Unable to register cuFFT factory: Attempting to register factory for plugin cuFFT when one has already been registered\n",
      "WARNING: All log messages before absl::InitializeLog() is called are written to STDERR\n",
      "E0000 00:00:1738515911.861731  155425 cuda_dnn.cc:8310] Unable to register cuDNN factory: Attempting to register factory for plugin cuDNN when one has already been registered\n",
      "E0000 00:00:1738515911.865139  155425 cuda_blas.cc:1418] Unable to register cuBLAS factory: Attempting to register factory for plugin cuBLAS when one has already been registered\n",
      "2025-02-02 12:05:11.877126: I tensorflow/core/platform/cpu_feature_guard.cc:210] This TensorFlow binary is optimized to use available CPU instructions in performance-critical operations.\n",
      "To enable the following instructions: AVX2 FMA, in other operations, rebuild TensorFlow with the appropriate compiler flags.\n"
     ]
    }
   ],
   "source": [
    "from sklearn.model_selection import train_test_split\n",
    "from transformers import AutoTokenizer, TFAutoModel\n",
    "from tensorflow import keras\n",
    "from tensorflow.keras import layers, losses, optimizers, metrics, regularizers\n",
    "from matplotlib import pyplot as plt\n",
    "import pandas as pd\n",
    "import numpy as np\n",
    "import tensorflow as tf\n",
    "import sys"
   ]
  },
  {
   "cell_type": "code",
   "execution_count": 2,
   "id": "72ec501c-4145-4e78-ac9e-295391bde66c",
   "metadata": {},
   "outputs": [
    {
     "name": "stdout",
     "output_type": "stream",
     "text": [
      "<class 'pandas.core.frame.DataFrame'>\n",
      "Index: 23358 entries, 21010 to 12237\n",
      "Data columns (total 4 columns):\n",
      " #   Column         Non-Null Count  Dtype \n",
      "---  ------         --------------  ----- \n",
      " 0   textID         23358 non-null  object\n",
      " 1   text           23358 non-null  object\n",
      " 2   selected_text  23358 non-null  object\n",
      " 3   sentiment      23358 non-null  object\n",
      "dtypes: object(4)\n",
      "memory usage: 912.4+ KB\n",
      "None\n",
      "<class 'pandas.core.frame.DataFrame'>\n",
      "Index: 4122 entries, 18030 to 4584\n",
      "Data columns (total 4 columns):\n",
      " #   Column         Non-Null Count  Dtype \n",
      "---  ------         --------------  ----- \n",
      " 0   textID         4122 non-null   object\n",
      " 1   text           4122 non-null   object\n",
      " 2   selected_text  4122 non-null   object\n",
      " 3   sentiment      4122 non-null   object\n",
      "dtypes: object(4)\n",
      "memory usage: 161.0+ KB\n",
      "None\n"
     ]
    }
   ],
   "source": [
    "train = pd.read_csv(\"data/train.csv\").dropna()\n",
    "train, test = train_test_split(train, test_size=0.15)\n",
    "print(train.info())\n",
    "print(test.info())\n",
    "# TODO see if selected_text needs to be fixed to word boundaries"
   ]
  },
  {
   "cell_type": "code",
   "execution_count": 3,
   "id": "7d49cf58-d62e-4887-b8dc-b120016513b3",
   "metadata": {},
   "outputs": [],
   "source": [
    "max_text_len = 128\n",
    "span_indices_size = max_text_len * (max_text_len + 1) // 2\n",
    "span_indices = np.zeros((max_text_len, max_text_len), dtype=int)\n",
    "span_indices[np.triu_indices(max_text_len, m=max_text_len)] = np.arange(span_indices_size)\n",
    "span_indices = np.flip(span_indices, axis=1)\n",
    "inference_batch_size = 1000\n",
    "\n",
    "def tokenize(texts, padding=True):\n",
    "    padding = \"max_length\" if padding else \"longest\"\n",
    "    return tokenizer(texts, padding=padding, max_length=max_text_len, return_tensors=\"tf\")\n",
    "\n",
    "def detokenize(ids, skip_special=True):\n",
    "    return tokenizer.batch_decode(ids, skip_special_tokens=skip_special)\n",
    "\n",
    "# https://stackoverflow.com/a/7100681\n",
    "def rolling_window(a, size):\n",
    "    shape = a.shape[:-1] + (a.shape[-1] - size + 1, size)\n",
    "    strides = a.strides + (a. strides[-1],)\n",
    "    return np.lib.stride_tricks.as_strided(a, shape=shape, strides=strides)\n",
    "\n",
    "def find_span(texts, spans, word_boundary=False):\n",
    "    texts = np.array(texts)\n",
    "    spans = np.array(spans)[:, 1:]\n",
    "    sizes = spans.argmin(axis=1) - 1\n",
    "    span_class = np.zeros((texts.shape[0], 1))\n",
    "    for i, text in enumerate(texts):\n",
    "        skips = 0\n",
    "        window_size = sizes[i]\n",
    "        if word_boundary:\n",
    "            allowed = set(texts[i])\n",
    "            if spans[i, 0] not in allowed and window_size > 1:\n",
    "                skips = 1\n",
    "            if spans[i, -1] not in allowed and window_size - skips > 1:\n",
    "                window_size -= 1\n",
    "        matched_window = rolling_window(texts[i], window_size - skips) == spans[i][skips:window_size]\n",
    "        window_from = matched_window.all(axis=1).argmax()\n",
    "        window_to = window_size - 1\n",
    "        try:\n",
    "            span_class[i] = span_indices[window_from, window_to]\n",
    "        except IndexError as e:\n",
    "            print(window_from, window_to, span_indices[window_from, window_to])\n",
    "            raise e\n",
    "    return span_class\n",
    "\n",
    "def span_range(index):\n",
    "    [d1], [d2] = np.where(span_indices == index)\n",
    "    return d1, d1 + d2 + 1\n",
    "\n",
    "def eprint(*args, **kwargs):\n",
    "    print(*args, **kwargs, file=sys.stderr)\n",
    "\n",
    "def print_mem_info():\n",
    "    info = tf.config.experimental.get_memory_info(\"/gpu:0\")\n",
    "    eprint(f\"GPU memory usage {(info[\"current\"] / info[\"peak\"]):.2f}.\")\n",
    "\n",
    "def context_embeddings(texts, sentiments, selected_texts=None):\n",
    "    text_tokens = tokenize(texts)\n",
    "    text_embeddings = encoder(**text_tokens).last_hidden_state\n",
    "    sentiment_tokens = tokenize(sentiments)\n",
    "    sentiment_embeddings = encoder(**sentiment_tokens).last_hidden_state[:, 1:2, :]  # only need embedding for one word\n",
    "    embeddings = tf.concat((text_embeddings, sentiment_embeddings), 1)\n",
    "    if selected_texts is None:\n",
    "        return embeddings\n",
    "    else:\n",
    "        selected_tokens = tokenize(selected_texts)\n",
    "        targets = find_span(text_tokens[\"input_ids\"], selected_tokens[\"input_ids\"], word_boundary=True)\n",
    "        return embeddings, targets\n",
    "\n",
    "def dataset_generator(texts, sentiments, selected_texts=None):\n",
    "    def gen():\n",
    "        total = len(texts)\n",
    "        yielded = 0\n",
    "        while yielded < total:\n",
    "            batch_i = yielded % inference_batch_size\n",
    "            # batch inferencing\n",
    "            if batch_i == 0:\n",
    "                end = min(total, yielded + inference_batch_size)\n",
    "                if selected_texts is None:\n",
    "                    embeddings = context_embeddings(texts[yielded:end], sentiments[yielded:end])\n",
    "                else:\n",
    "                    embeddings, targets = context_embeddings(texts[yielded:end], sentiments[yielded:end], selected_texts[yielded:end])\n",
    "            # feed the generator\n",
    "            if selected_texts is None:\n",
    "                yield embeddings[batch_i]\n",
    "            else:\n",
    "                yield embeddings[batch_i], targets[batch_i]\n",
    "            yielded += 1\n",
    "    return gen"
   ]
  },
  {
   "cell_type": "markdown",
   "id": "b6f2be6b-b765-49c3-baf3-cfb900f02f42",
   "metadata": {},
   "source": [
    "Naive implementation, flattened embeddings into FFN with one hidden layer."
   ]
  },
  {
   "cell_type": "code",
   "execution_count": 4,
   "id": "98313e89-cfa9-4bd9-bf5b-6f305ea0d7e6",
   "metadata": {
    "scrolled": true
   },
   "outputs": [
    {
     "name": "stderr",
     "output_type": "stream",
     "text": [
      "I0000 00:00:1738515913.819989  155425 gpu_device.cc:2022] Created device /job:localhost/replica:0/task:0/device:GPU:0 with 21796 MB memory:  -> device: 0, name: NVIDIA GeForce RTX 3090, pci bus id: 0000:01:00.0, compute capability: 8.6\n",
      "Some weights of the PyTorch model were not used when initializing the TF 2.0 model TFDistilBertModel: ['vocab_layer_norm.weight', 'vocab_transform.bias', 'vocab_layer_norm.bias', 'vocab_transform.weight', 'vocab_projector.bias']\n",
      "- This IS expected if you are initializing TFDistilBertModel from a PyTorch model trained on another task or with another architecture (e.g. initializing a TFBertForSequenceClassification model from a BertForPreTraining model).\n",
      "- This IS NOT expected if you are initializing TFDistilBertModel from a PyTorch model that you expect to be exactly identical (e.g. initializing a TFBertForSequenceClassification model from a BertForSequenceClassification model).\n",
      "All the weights of TFDistilBertModel were initialized from the PyTorch model.\n",
      "If your task is similar to the task the model of the checkpoint was trained on, you can already use TFDistilBertModel for predictions without further training.\n"
     ]
    },
    {
     "name": "stdout",
     "output_type": "stream",
     "text": [
      "Epoch 1/10\n"
     ]
    },
    {
     "name": "stderr",
     "output_type": "stream",
     "text": [
      "WARNING: All log messages before absl::InitializeLog() is called are written to STDERR\n",
      "I0000 00:00:1738515920.870749  155596 service.cc:148] XLA service 0x7efe80002bf0 initialized for platform CUDA (this does not guarantee that XLA will be used). Devices:\n",
      "I0000 00:00:1738515920.870768  155596 service.cc:156]   StreamExecutor device (0): NVIDIA GeForce RTX 3090, Compute Capability 8.6\n",
      "2025-02-02 12:05:20.890003: I tensorflow/compiler/mlir/tensorflow/utils/dump_mlir_util.cc:268] disabling MLIR crash reproducer, set env var `MLIR_CRASH_REPRODUCER_DIRECTORY` to enable.\n",
      "I0000 00:00:1738515920.965970  155596 cuda_dnn.cc:529] Loaded cuDNN version 90300\n",
      "2025-02-02 12:05:21.885135: I external/local_xla/xla/stream_executor/cuda/cuda_asm_compiler.cc:397] ptxas warning : Registers are spilled to local memory in function 'gemm_fusion_dot_571', 112 bytes spill stores, 116 bytes spill loads\n",
      "\n",
      "2025-02-02 12:05:21.957369: I external/local_xla/xla/stream_executor/cuda/cuda_asm_compiler.cc:397] ptxas warning : Registers are spilled to local memory in function 'gemm_fusion_dot_571', 312 bytes spill stores, 312 bytes spill loads\n",
      "\n",
      "2025-02-02 12:05:21.980574: I external/local_xla/xla/stream_executor/cuda/cuda_asm_compiler.cc:397] ptxas warning : Registers are spilled to local memory in function 'gemm_fusion_dot_571', 52 bytes spill stores, 52 bytes spill loads\n",
      "\n",
      "2025-02-02 12:05:22.097422: I external/local_xla/xla/stream_executor/cuda/cuda_asm_compiler.cc:397] ptxas warning : Registers are spilled to local memory in function 'gemm_fusion_dot_571', 1192 bytes spill stores, 1164 bytes spill loads\n",
      "\n",
      "2025-02-02 12:05:22.120535: I external/local_xla/xla/stream_executor/cuda/cuda_asm_compiler.cc:397] ptxas warning : Registers are spilled to local memory in function 'gemm_fusion_dot_636', 132 bytes spill stores, 132 bytes spill loads\n",
      "\n",
      "2025-02-02 12:05:22.130680: I external/local_xla/xla/stream_executor/cuda/cuda_asm_compiler.cc:397] ptxas warning : Registers are spilled to local memory in function 'gemm_fusion_dot_571', 80 bytes spill stores, 80 bytes spill loads\n",
      "\n",
      "2025-02-02 12:05:22.308097: I external/local_xla/xla/stream_executor/cuda/cuda_asm_compiler.cc:397] ptxas warning : Registers are spilled to local memory in function 'gemm_fusion_dot_636', 116 bytes spill stores, 116 bytes spill loads\n",
      "\n",
      "2025-02-02 12:05:22.520214: W external/local_xla/xla/service/hlo_rematerialization.cc:3005] Can't reduce memory use below 8.56GiB (9196006413 bytes) by rematerialization; only reduced to 12.86GiB (13803652004 bytes), down from 12.86GiB (13803652068 bytes) originally\n"
     ]
    },
    {
     "name": "stdout",
     "output_type": "stream",
     "text": [
      "      2/Unknown \u001b[1m8s\u001b[0m 52ms/step - loss: 19.2148 - sparse_categorical_accuracy: 0.0117 "
     ]
    },
    {
     "name": "stderr",
     "output_type": "stream",
     "text": [
      "I0000 00:00:1738515923.283815  155596 device_compiler.h:188] Compiled cluster using XLA!  This line is logged at most once for the lifetime of the process.\n"
     ]
    },
    {
     "name": "stdout",
     "output_type": "stream",
     "text": [
      "    363/Unknown \u001b[1m70s\u001b[0m 170ms/step - loss: 14.7235 - sparse_categorical_accuracy: 0.2446"
     ]
    },
    {
     "name": "stderr",
     "output_type": "stream",
     "text": [
      "2025-02-02 12:06:25.326999: I external/local_xla/xla/stream_executor/cuda/cuda_asm_compiler.cc:397] ptxas warning : Registers are spilled to local memory in function 'gemm_fusion_dot_636', 4 bytes spill stores, 4 bytes spill loads\n",
      "\n",
      "2025-02-02 12:06:25.473721: I external/local_xla/xla/stream_executor/cuda/cuda_asm_compiler.cc:397] ptxas warning : Registers are spilled to local memory in function 'gemm_fusion_dot_571', 4 bytes spill stores, 4 bytes spill loads\n",
      "\n",
      "2025-02-02 12:06:25.787007: I external/local_xla/xla/stream_executor/cuda/cuda_asm_compiler.cc:397] ptxas warning : Registers are spilled to local memory in function 'gemm_fusion_dot_571', 116 bytes spill stores, 120 bytes spill loads\n",
      "\n",
      "2025-02-02 12:06:25.974524: I external/local_xla/xla/stream_executor/cuda/cuda_asm_compiler.cc:397] ptxas warning : Registers are spilled to local memory in function 'gemm_fusion_dot_636', 4 bytes spill stores, 4 bytes spill loads\n",
      "\n",
      "2025-02-02 12:06:26.032829: I external/local_xla/xla/stream_executor/cuda/cuda_asm_compiler.cc:397] ptxas warning : Registers are spilled to local memory in function 'gemm_fusion_dot_636', 96 bytes spill stores, 96 bytes spill loads\n",
      "\n",
      "2025-02-02 12:06:26.078168: I external/local_xla/xla/stream_executor/cuda/cuda_asm_compiler.cc:397] ptxas warning : Registers are spilled to local memory in function 'gemm_fusion_dot_571', 80 bytes spill stores, 80 bytes spill loads\n",
      "\n",
      "2025-02-02 12:06:26.090750: I external/local_xla/xla/stream_executor/cuda/cuda_asm_compiler.cc:397] ptxas warning : Registers are spilled to local memory in function 'gemm_fusion_dot_571', 56 bytes spill stores, 56 bytes spill loads\n",
      "\n",
      "2025-02-02 12:06:26.144152: I external/local_xla/xla/stream_executor/cuda/cuda_asm_compiler.cc:397] ptxas warning : Registers are spilled to local memory in function 'gemm_fusion_dot_571', 1584 bytes spill stores, 1168 bytes spill loads\n",
      "\n",
      "2025-02-02 12:06:26.162137: I external/local_xla/xla/stream_executor/cuda/cuda_asm_compiler.cc:397] ptxas warning : Registers are spilled to local memory in function 'gemm_fusion_dot_636', 4 bytes spill stores, 4 bytes spill loads\n",
      "\n",
      "2025-02-02 12:06:26.196423: I external/local_xla/xla/stream_executor/cuda/cuda_asm_compiler.cc:397] ptxas warning : Registers are spilled to local memory in function 'gemm_fusion_dot_636', 88 bytes spill stores, 88 bytes spill loads\n",
      "\n",
      "2025-02-02 12:06:26.210347: I external/local_xla/xla/stream_executor/cuda/cuda_asm_compiler.cc:397] ptxas warning : Registers are spilled to local memory in function 'gemm_fusion_dot_571', 344 bytes spill stores, 344 bytes spill loads\n",
      "\n",
      "2025-02-02 12:06:26.309830: I external/local_xla/xla/stream_executor/cuda/cuda_asm_compiler.cc:397] ptxas warning : Registers are spilled to local memory in function 'gemm_fusion_dot_636', 56 bytes spill stores, 56 bytes spill loads\n",
      "\n",
      "2025-02-02 12:06:26.316960: I external/local_xla/xla/stream_executor/cuda/cuda_asm_compiler.cc:397] ptxas warning : Registers are spilled to local memory in function 'gemm_fusion_dot_636', 80 bytes spill stores, 80 bytes spill loads\n",
      "\n",
      "2025-02-02 12:06:26.528448: W external/local_xla/xla/service/hlo_rematerialization.cc:3005] Can't reduce memory use below 8.56GiB (9196759368 bytes) by rematerialization; only reduced to 12.86GiB (13803586468 bytes), down from 12.86GiB (13803586532 bytes) originally\n"
     ]
    },
    {
     "name": "stdout",
     "output_type": "stream",
     "text": [
      "    365/Unknown \u001b[1m72s\u001b[0m 176ms/step - loss: 14.6784 - sparse_categorical_accuracy: 0.2451"
     ]
    },
    {
     "name": "stderr",
     "output_type": "stream",
     "text": [
      "2025-02-02 12:06:27.432863: I tensorflow/core/framework/local_rendezvous.cc:405] Local rendezvous is aborting with status: OUT_OF_RANGE: End of sequence\n",
      "\t [[{{node IteratorGetNext}}]]\n",
      "/home/yu/kaggle-tweet-sentiment/.venv/lib64/python3.12/site-packages/keras/src/trainers/epoch_iterator.py:151: UserWarning: Your input ran out of data; interrupting training. Make sure that your dataset or generator can generate at least `steps_per_epoch * epochs` batches. You may need to use the `.repeat()` function when building your dataset.\n",
      "  self._interrupted_warning()\n",
      "2025-02-02 12:06:27.432914: I tensorflow/core/framework/local_rendezvous.cc:405] Local rendezvous is aborting with status: OUT_OF_RANGE: End of sequence\n",
      "\t [[{{node IteratorGetNext}}]]\n",
      "\t [[IteratorGetNext/_2]]\n",
      "2025-02-02 12:06:27.432928: I tensorflow/core/framework/local_rendezvous.cc:424] Local rendezvous recv item cancelled. Key hash: 2759548405557517131\n",
      "2025-02-02 12:06:27.432942: I tensorflow/core/framework/local_rendezvous.cc:424] Local rendezvous recv item cancelled. Key hash: 15802704191162389435\n",
      "2025-02-02 12:06:29.704253: I external/local_xla/xla/stream_executor/cuda/cuda_asm_compiler.cc:397] ptxas warning : Registers are spilled to local memory in function 'gemm_fusion_dot_57', 196 bytes spill stores, 196 bytes spill loads\n",
      "\n",
      "2025-02-02 12:06:29.719190: I external/local_xla/xla/stream_executor/cuda/cuda_asm_compiler.cc:397] ptxas warning : Registers are spilled to local memory in function 'gemm_fusion_dot_57', 236 bytes spill stores, 236 bytes spill loads\n",
      "\n",
      "2025-02-02 12:06:37.993670: I external/local_xla/xla/stream_executor/cuda/cuda_asm_compiler.cc:397] ptxas warning : Registers are spilled to local memory in function 'gemm_fusion_dot_57', 244 bytes spill stores, 244 bytes spill loads\n",
      "\n",
      "2025-02-02 12:06:38.011212: I external/local_xla/xla/stream_executor/cuda/cuda_asm_compiler.cc:397] ptxas warning : Registers are spilled to local memory in function 'gemm_fusion_dot_57', 152 bytes spill stores, 152 bytes spill loads\n",
      "\n"
     ]
    },
    {
     "name": "stdout",
     "output_type": "stream",
     "text": [
      "\u001b[1m365/365\u001b[0m \u001b[32m━━━━━━━━━━━━━━━━━━━━\u001b[0m\u001b[37m\u001b[0m \u001b[1m83s\u001b[0m 206ms/step - loss: 14.6559 - sparse_categorical_accuracy: 0.2454 - val_loss: 3.3687 - val_sparse_categorical_accuracy: 0.4039\n",
      "Epoch 2/10\n"
     ]
    },
    {
     "name": "stderr",
     "output_type": "stream",
     "text": [
      "2025-02-02 12:06:38.354702: I tensorflow/core/framework/local_rendezvous.cc:405] Local rendezvous is aborting with status: OUT_OF_RANGE: End of sequence\n",
      "\t [[{{node IteratorGetNext}}]]\n",
      "\t [[IteratorGetNext/_4]]\n",
      "2025-02-02 12:06:38.354725: I tensorflow/core/framework/local_rendezvous.cc:424] Local rendezvous recv item cancelled. Key hash: 15802704191162389435\n",
      "2025-02-02 12:06:38.354733: I tensorflow/core/framework/local_rendezvous.cc:424] Local rendezvous recv item cancelled. Key hash: 2759548405557517131\n"
     ]
    },
    {
     "name": "stdout",
     "output_type": "stream",
     "text": [
      "\u001b[1m365/365\u001b[0m \u001b[32m━━━━━━━━━━━━━━━━━━━━\u001b[0m\u001b[37m\u001b[0m \u001b[1m0s\u001b[0m 173ms/step - loss: 2.9555 - sparse_categorical_accuracy: 0.4387  "
     ]
    },
    {
     "name": "stderr",
     "output_type": "stream",
     "text": [
      "2025-02-02 12:07:45.032758: I tensorflow/core/framework/local_rendezvous.cc:424] Local rendezvous recv item cancelled. Key hash: 2759548405557517131\n",
      "2025-02-02 12:07:45.032784: I tensorflow/core/framework/local_rendezvous.cc:424] Local rendezvous recv item cancelled. Key hash: 15802704191162389435\n"
     ]
    },
    {
     "name": "stdout",
     "output_type": "stream",
     "text": [
      "\u001b[1m365/365\u001b[0m \u001b[32m━━━━━━━━━━━━━━━━━━━━\u001b[0m\u001b[37m\u001b[0m \u001b[1m76s\u001b[0m 199ms/step - loss: 2.9553 - sparse_categorical_accuracy: 0.4387 - val_loss: 3.2873 - val_sparse_categorical_accuracy: 0.3988\n",
      "Epoch 3/10\n"
     ]
    },
    {
     "name": "stderr",
     "output_type": "stream",
     "text": [
      "2025-02-02 12:07:54.348117: I tensorflow/core/framework/local_rendezvous.cc:405] Local rendezvous is aborting with status: OUT_OF_RANGE: End of sequence\n",
      "\t [[{{node IteratorGetNext}}]]\n",
      "\t [[IteratorGetNext/_4]]\n",
      "2025-02-02 12:07:54.348145: I tensorflow/core/framework/local_rendezvous.cc:424] Local rendezvous recv item cancelled. Key hash: 15802704191162389435\n",
      "2025-02-02 12:07:54.348154: I tensorflow/core/framework/local_rendezvous.cc:424] Local rendezvous recv item cancelled. Key hash: 2759548405557517131\n"
     ]
    },
    {
     "name": "stdout",
     "output_type": "stream",
     "text": [
      "\u001b[1m365/365\u001b[0m \u001b[32m━━━━━━━━━━━━━━━━━━━━\u001b[0m\u001b[37m\u001b[0m \u001b[1m0s\u001b[0m 173ms/step - loss: 2.5312 - sparse_categorical_accuracy: 0.4759  "
     ]
    },
    {
     "name": "stderr",
     "output_type": "stream",
     "text": [
      "2025-02-02 12:09:01.255237: I tensorflow/core/framework/local_rendezvous.cc:424] Local rendezvous recv item cancelled. Key hash: 2759548405557517131\n",
      "2025-02-02 12:09:01.255277: I tensorflow/core/framework/local_rendezvous.cc:424] Local rendezvous recv item cancelled. Key hash: 15802704191162389435\n"
     ]
    },
    {
     "name": "stdout",
     "output_type": "stream",
     "text": [
      "\u001b[1m365/365\u001b[0m \u001b[32m━━━━━━━━━━━━━━━━━━━━\u001b[0m\u001b[37m\u001b[0m \u001b[1m76s\u001b[0m 199ms/step - loss: 2.5311 - sparse_categorical_accuracy: 0.4759 - val_loss: 3.2565 - val_sparse_categorical_accuracy: 0.4165\n",
      "Epoch 4/10\n"
     ]
    },
    {
     "name": "stderr",
     "output_type": "stream",
     "text": [
      "2025-02-02 12:09:10.491604: I tensorflow/core/framework/local_rendezvous.cc:424] Local rendezvous recv item cancelled. Key hash: 15802704191162389435\n",
      "2025-02-02 12:09:10.491631: I tensorflow/core/framework/local_rendezvous.cc:424] Local rendezvous recv item cancelled. Key hash: 2759548405557517131\n"
     ]
    },
    {
     "name": "stdout",
     "output_type": "stream",
     "text": [
      "\u001b[1m365/365\u001b[0m \u001b[32m━━━━━━━━━━━━━━━━━━━━\u001b[0m\u001b[37m\u001b[0m \u001b[1m0s\u001b[0m 174ms/step - loss: 2.1721 - sparse_categorical_accuracy: 0.5216  "
     ]
    },
    {
     "name": "stderr",
     "output_type": "stream",
     "text": [
      "2025-02-02 12:10:17.589045: I tensorflow/core/framework/local_rendezvous.cc:424] Local rendezvous recv item cancelled. Key hash: 2759548405557517131\n",
      "2025-02-02 12:10:17.589070: I tensorflow/core/framework/local_rendezvous.cc:424] Local rendezvous recv item cancelled. Key hash: 15802704191162389435\n"
     ]
    },
    {
     "name": "stdout",
     "output_type": "stream",
     "text": [
      "\u001b[1m365/365\u001b[0m \u001b[32m━━━━━━━━━━━━━━━━━━━━\u001b[0m\u001b[37m\u001b[0m \u001b[1m76s\u001b[0m 199ms/step - loss: 2.1722 - sparse_categorical_accuracy: 0.5216 - val_loss: 3.4754 - val_sparse_categorical_accuracy: 0.4078\n",
      "Epoch 5/10\n"
     ]
    },
    {
     "name": "stderr",
     "output_type": "stream",
     "text": [
      "2025-02-02 12:10:26.736113: I tensorflow/core/framework/local_rendezvous.cc:405] Local rendezvous is aborting with status: OUT_OF_RANGE: End of sequence\n",
      "\t [[{{node IteratorGetNext}}]]\n",
      "\t [[IteratorGetNext/_4]]\n",
      "2025-02-02 12:10:26.736141: I tensorflow/core/framework/local_rendezvous.cc:424] Local rendezvous recv item cancelled. Key hash: 15802704191162389435\n",
      "2025-02-02 12:10:26.736150: I tensorflow/core/framework/local_rendezvous.cc:424] Local rendezvous recv item cancelled. Key hash: 2759548405557517131\n"
     ]
    },
    {
     "name": "stdout",
     "output_type": "stream",
     "text": [
      "\u001b[1m365/365\u001b[0m \u001b[32m━━━━━━━━━━━━━━━━━━━━\u001b[0m\u001b[37m\u001b[0m \u001b[1m0s\u001b[0m 171ms/step - loss: 1.8604 - sparse_categorical_accuracy: 0.5673  "
     ]
    },
    {
     "name": "stderr",
     "output_type": "stream",
     "text": [
      "2025-02-02 12:11:32.754652: I tensorflow/core/framework/local_rendezvous.cc:424] Local rendezvous recv item cancelled. Key hash: 2759548405557517131\n",
      "2025-02-02 12:11:32.754682: I tensorflow/core/framework/local_rendezvous.cc:424] Local rendezvous recv item cancelled. Key hash: 15802704191162389435\n"
     ]
    },
    {
     "name": "stdout",
     "output_type": "stream",
     "text": [
      "\u001b[1m365/365\u001b[0m \u001b[32m━━━━━━━━━━━━━━━━━━━━\u001b[0m\u001b[37m\u001b[0m \u001b[1m75s\u001b[0m 196ms/step - loss: 1.8605 - sparse_categorical_accuracy: 0.5673 - val_loss: 3.7138 - val_sparse_categorical_accuracy: 0.4136\n",
      "Epoch 6/10\n"
     ]
    },
    {
     "name": "stderr",
     "output_type": "stream",
     "text": [
      "2025-02-02 12:11:41.945310: I tensorflow/core/framework/local_rendezvous.cc:424] Local rendezvous recv item cancelled. Key hash: 15802704191162389435\n",
      "2025-02-02 12:11:41.945340: I tensorflow/core/framework/local_rendezvous.cc:424] Local rendezvous recv item cancelled. Key hash: 2759548405557517131\n"
     ]
    },
    {
     "name": "stdout",
     "output_type": "stream",
     "text": [
      "\u001b[1m365/365\u001b[0m \u001b[32m━━━━━━━━━━━━━━━━━━━━\u001b[0m\u001b[37m\u001b[0m \u001b[1m0s\u001b[0m 173ms/step - loss: 1.5747 - sparse_categorical_accuracy: 0.6122  "
     ]
    },
    {
     "name": "stderr",
     "output_type": "stream",
     "text": [
      "2025-02-02 12:12:48.472588: I tensorflow/core/framework/local_rendezvous.cc:424] Local rendezvous recv item cancelled. Key hash: 2759548405557517131\n",
      "2025-02-02 12:12:48.472616: I tensorflow/core/framework/local_rendezvous.cc:424] Local rendezvous recv item cancelled. Key hash: 15802704191162389435\n"
     ]
    },
    {
     "name": "stdout",
     "output_type": "stream",
     "text": [
      "\u001b[1m365/365\u001b[0m \u001b[32m━━━━━━━━━━━━━━━━━━━━\u001b[0m\u001b[37m\u001b[0m \u001b[1m76s\u001b[0m 198ms/step - loss: 1.5748 - sparse_categorical_accuracy: 0.6122 - val_loss: 3.9003 - val_sparse_categorical_accuracy: 0.4037\n",
      "Epoch 7/10\n"
     ]
    },
    {
     "name": "stderr",
     "output_type": "stream",
     "text": [
      "2025-02-02 12:12:57.549447: I tensorflow/core/framework/local_rendezvous.cc:424] Local rendezvous recv item cancelled. Key hash: 15802704191162389435\n",
      "2025-02-02 12:12:57.549476: I tensorflow/core/framework/local_rendezvous.cc:424] Local rendezvous recv item cancelled. Key hash: 2759548405557517131\n"
     ]
    },
    {
     "name": "stdout",
     "output_type": "stream",
     "text": [
      "\u001b[1m365/365\u001b[0m \u001b[32m━━━━━━━━━━━━━━━━━━━━\u001b[0m\u001b[37m\u001b[0m \u001b[1m0s\u001b[0m 171ms/step - loss: 1.3099 - sparse_categorical_accuracy: 0.6644  "
     ]
    },
    {
     "name": "stderr",
     "output_type": "stream",
     "text": [
      "2025-02-02 12:14:03.607927: I tensorflow/core/framework/local_rendezvous.cc:424] Local rendezvous recv item cancelled. Key hash: 2759548405557517131\n",
      "2025-02-02 12:14:03.607969: I tensorflow/core/framework/local_rendezvous.cc:424] Local rendezvous recv item cancelled. Key hash: 15802704191162389435\n"
     ]
    },
    {
     "name": "stdout",
     "output_type": "stream",
     "text": [
      "\u001b[1m365/365\u001b[0m \u001b[32m━━━━━━━━━━━━━━━━━━━━\u001b[0m\u001b[37m\u001b[0m \u001b[1m75s\u001b[0m 196ms/step - loss: 1.3100 - sparse_categorical_accuracy: 0.6644 - val_loss: 4.0471 - val_sparse_categorical_accuracy: 0.4107\n",
      "Epoch 8/10\n"
     ]
    },
    {
     "name": "stderr",
     "output_type": "stream",
     "text": [
      "2025-02-02 12:14:12.810887: I tensorflow/core/framework/local_rendezvous.cc:424] Local rendezvous recv item cancelled. Key hash: 15802704191162389435\n",
      "2025-02-02 12:14:12.810916: I tensorflow/core/framework/local_rendezvous.cc:424] Local rendezvous recv item cancelled. Key hash: 2759548405557517131\n"
     ]
    },
    {
     "name": "stdout",
     "output_type": "stream",
     "text": [
      "\u001b[1m365/365\u001b[0m \u001b[32m━━━━━━━━━━━━━━━━━━━━\u001b[0m\u001b[37m\u001b[0m \u001b[1m0s\u001b[0m 172ms/step - loss: 1.0423 - sparse_categorical_accuracy: 0.7241  "
     ]
    },
    {
     "name": "stderr",
     "output_type": "stream",
     "text": [
      "2025-02-02 12:15:19.333605: I tensorflow/core/framework/local_rendezvous.cc:424] Local rendezvous recv item cancelled. Key hash: 2759548405557517131\n",
      "2025-02-02 12:15:19.333631: I tensorflow/core/framework/local_rendezvous.cc:424] Local rendezvous recv item cancelled. Key hash: 15802704191162389435\n"
     ]
    },
    {
     "name": "stdout",
     "output_type": "stream",
     "text": [
      "\u001b[1m365/365\u001b[0m \u001b[32m━━━━━━━━━━━━━━━━━━━━\u001b[0m\u001b[37m\u001b[0m \u001b[1m76s\u001b[0m 198ms/step - loss: 1.0425 - sparse_categorical_accuracy: 0.7241 - val_loss: 4.4934 - val_sparse_categorical_accuracy: 0.4034\n",
      "Epoch 9/10\n"
     ]
    },
    {
     "name": "stderr",
     "output_type": "stream",
     "text": [
      "2025-02-02 12:15:28.692297: I tensorflow/core/framework/local_rendezvous.cc:405] Local rendezvous is aborting with status: OUT_OF_RANGE: End of sequence\n",
      "\t [[{{node IteratorGetNext}}]]\n",
      "\t [[IteratorGetNext/_4]]\n",
      "2025-02-02 12:15:28.692329: I tensorflow/core/framework/local_rendezvous.cc:424] Local rendezvous recv item cancelled. Key hash: 15802704191162389435\n",
      "2025-02-02 12:15:28.692339: I tensorflow/core/framework/local_rendezvous.cc:424] Local rendezvous recv item cancelled. Key hash: 2759548405557517131\n"
     ]
    },
    {
     "name": "stdout",
     "output_type": "stream",
     "text": [
      "\u001b[1m365/365\u001b[0m \u001b[32m━━━━━━━━━━━━━━━━━━━━\u001b[0m\u001b[37m\u001b[0m \u001b[1m0s\u001b[0m 173ms/step - loss: 0.8722 - sparse_categorical_accuracy: 0.7621  "
     ]
    },
    {
     "name": "stderr",
     "output_type": "stream",
     "text": [
      "2025-02-02 12:16:35.393887: I tensorflow/core/framework/local_rendezvous.cc:424] Local rendezvous recv item cancelled. Key hash: 2759548405557517131\n",
      "2025-02-02 12:16:35.393913: I tensorflow/core/framework/local_rendezvous.cc:424] Local rendezvous recv item cancelled. Key hash: 15802704191162389435\n"
     ]
    },
    {
     "name": "stdout",
     "output_type": "stream",
     "text": [
      "\u001b[1m365/365\u001b[0m \u001b[32m━━━━━━━━━━━━━━━━━━━━\u001b[0m\u001b[37m\u001b[0m \u001b[1m76s\u001b[0m 198ms/step - loss: 0.8723 - sparse_categorical_accuracy: 0.7621 - val_loss: 4.6548 - val_sparse_categorical_accuracy: 0.3991\n",
      "Epoch 10/10\n"
     ]
    },
    {
     "name": "stderr",
     "output_type": "stream",
     "text": [
      "2025-02-02 12:16:44.443606: I tensorflow/core/framework/local_rendezvous.cc:424] Local rendezvous recv item cancelled. Key hash: 15802704191162389435\n",
      "2025-02-02 12:16:44.443635: I tensorflow/core/framework/local_rendezvous.cc:424] Local rendezvous recv item cancelled. Key hash: 2759548405557517131\n"
     ]
    },
    {
     "name": "stdout",
     "output_type": "stream",
     "text": [
      "\u001b[1m365/365\u001b[0m \u001b[32m━━━━━━━━━━━━━━━━━━━━\u001b[0m\u001b[37m\u001b[0m \u001b[1m0s\u001b[0m 167ms/step - loss: 0.7044 - sparse_categorical_accuracy: 0.8070 "
     ]
    },
    {
     "name": "stderr",
     "output_type": "stream",
     "text": [
      "2025-02-02 12:17:48.730868: I tensorflow/core/framework/local_rendezvous.cc:424] Local rendezvous recv item cancelled. Key hash: 2759548405557517131\n",
      "2025-02-02 12:17:48.730894: I tensorflow/core/framework/local_rendezvous.cc:424] Local rendezvous recv item cancelled. Key hash: 15802704191162389435\n"
     ]
    },
    {
     "name": "stdout",
     "output_type": "stream",
     "text": [
      "\u001b[1m365/365\u001b[0m \u001b[32m━━━━━━━━━━━━━━━━━━━━\u001b[0m\u001b[37m\u001b[0m \u001b[1m73s\u001b[0m 191ms/step - loss: 0.7045 - sparse_categorical_accuracy: 0.8070 - val_loss: 5.1297 - val_sparse_categorical_accuracy: 0.4000\n"
     ]
    },
    {
     "name": "stderr",
     "output_type": "stream",
     "text": [
      "2025-02-02 12:17:57.582068: I tensorflow/core/framework/local_rendezvous.cc:424] Local rendezvous recv item cancelled. Key hash: 15802704191162389435\n",
      "2025-02-02 12:17:57.582097: I tensorflow/core/framework/local_rendezvous.cc:424] Local rendezvous recv item cancelled. Key hash: 2759548405557517131\n"
     ]
    }
   ],
   "source": [
    "inputs = keras.Input(shape=(1 + max_text_len, 768))\n",
    "softmax = layers.Dense(span_indices_size, activation=\"softmax\", kernel_regularizer=\"l1l2\", bias_regularizer=\"l2\")(\n",
    "          layers.Dropout(0.01)(\n",
    "          layers.Dense(8192, activation=\"relu\", kernel_regularizer=\"l1l2\", bias_regularizer=\"l2\")(\n",
    "          layers.Flatten()(\n",
    "          inputs))))\n",
    "ffn = keras.Model(inputs=inputs, outputs=softmax)\n",
    "ffn.compile(\n",
    "    optimizer=optimizers.Adam(),\n",
    "    loss=losses.SparseCategoricalCrossentropy(),\n",
    "    metrics=[metrics.SparseCategoricalAccuracy()]\n",
    ")\n",
    "\n",
    "tokenizer = AutoTokenizer.from_pretrained(\"distilbert-base-uncased\")\n",
    "encoder = TFAutoModel.from_pretrained(\"distilbert-base-uncased\")\n",
    "dataset_train = tf.data.Dataset.from_generator(\n",
    "    dataset_generator(train.text.to_list(), train.sentiment.to_list(), train.selected_text.to_list()),\n",
    "    output_signature=(tf.TensorSpec(shape=(1 + max_text_len, 768)), tf.TensorSpec(shape=(1,)))\n",
    ").shuffle(inference_batch_size)\n",
    "dataset_test = tf.data.Dataset.from_generator(\n",
    "    dataset_generator(test.text.to_list(), test.sentiment.to_list(), test.selected_text.to_list()),\n",
    "    output_signature=(tf.TensorSpec(shape=(1 + max_text_len, 768)), tf.TensorSpec(shape=(1,)))\n",
    ")\n",
    "history = ffn.fit(dataset_train.batch(64), epochs=10, validation_data=dataset_test.batch(64))"
   ]
  },
  {
   "cell_type": "code",
   "execution_count": 5,
   "id": "cc613c17-5308-43d2-9faf-6446fe5f3218",
   "metadata": {},
   "outputs": [
    {
     "name": "stdout",
     "output_type": "stream",
     "text": [
      "\u001b[1m65/65\u001b[0m \u001b[32m━━━━━━━━━━━━━━━━━━━━\u001b[0m\u001b[37m\u001b[0m \u001b[1m9s\u001b[0m 119ms/step\n"
     ]
    },
    {
     "data": {
      "text/plain": [
       "0.0988013690587168"
      ]
     },
     "execution_count": 5,
     "metadata": {},
     "output_type": "execute_result"
    }
   ],
   "source": [
    "# https://www.kaggle.com/competitions/tweet-sentiment-extraction\n",
    "def jaccard(str1, str2):\n",
    "    a = set(str1.lower().split())\n",
    "    b = set(str2.lower().split())\n",
    "    c = a.intersection(b)\n",
    "    return float(len(c)) / (len(a) + len(b) - len(c))\n",
    "\n",
    "score = 0\n",
    "total = test.shape[0]\n",
    "y = ffn.predict(dataset_test.batch(64))\n",
    "y = tf.math.argmax(y, axis=1)\n",
    "for i, y in enumerate(y):\n",
    "    span_from, span_to = span_range(y)\n",
    "    y_str = test.text.iloc[i][span_from:span_to]\n",
    "    t_str = test.selected_text.iloc[i]\n",
    "    score += 1 / total * jaccard(y_str, t_str)\n",
    "score"
   ]
  },
  {
   "cell_type": "code",
   "execution_count": 6,
   "id": "f535b286-6b40-4957-a0e9-3f866ba68cce",
   "metadata": {},
   "outputs": [
    {
     "data": {
      "image/png": "[encoded data removed]",
      "text/plain": [
       "<Figure size 640x480 with 1 Axes>"
      ]
     },
     "metadata": {},
     "output_type": "display_data"
    }
   ],
   "source": [
    "plt.plot(history.history[\"sparse_categorical_accuracy\"])\n",
    "plt.plot(history.history[\"val_sparse_categorical_accuracy\"])\n",
    "plt.legend([\"Training\", \"Validation\"])\n",
    "plt.title(\"CCE Accuracy\")\n",
    "plt.xlabel(\"Epoch\")\n",
    "plt.show()"
   ]
  },
  {
   "cell_type": "code",
   "execution_count": null,
   "id": "0b8cc8ea-5a76-4b06-8664-8936aee29169",
   "metadata": {},
   "outputs": [],
   "source": []
  }
 ],
 "metadata": {
  "kernelspec": {
   "display_name": "Python 3 (ipykernel)",
   "language": "python",
   "name": "python3"
  },
  "language_info": {
   "codemirror_mode": {
    "name": "ipython",
    "version": 3
   },
   "file_extension": ".py",
   "mimetype": "text/x-python",
   "name": "python",
   "nbconvert_exporter": "python",
   "pygments_lexer": "ipython3",
   "version": "3.12.8"
  }
 },
 "nbformat": 4,
 "nbformat_minor": 5
}
