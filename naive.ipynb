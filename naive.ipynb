{
 "cells": [
  {
   "cell_type": "code",
   "execution_count": 1,
   "id": "cb7b5c32-53e7-46a6-8fc1-c1a0f399d4cb",
   "metadata": {},
   "outputs": [
    {
     "name": "stderr",
     "output_type": "stream",
     "text": [
      "/home/yu/kaggle-tweet-sentiment/.venv/lib64/python3.12/site-packages/tqdm/auto.py:21: TqdmWarning: IProgress not found. Please update jupyter and ipywidgets. See https://ipywidgets.readthedocs.io/en/stable/user_install.html\n",
      "  from .autonotebook import tqdm as notebook_tqdm\n",
      "2025-02-01 21:10:22.804484: E external/local_xla/xla/stream_executor/cuda/cuda_fft.cc:477] Unable to register cuFFT factory: Attempting to register factory for plugin cuFFT when one has already been registered\n",
      "WARNING: All log messages before absl::InitializeLog() is called are written to STDERR\n",
      "E0000 00:00:1738462222.815407   33219 cuda_dnn.cc:8310] Unable to register cuDNN factory: Attempting to register factory for plugin cuDNN when one has already been registered\n",
      "E0000 00:00:1738462222.818685   33219 cuda_blas.cc:1418] Unable to register cuBLAS factory: Attempting to register factory for plugin cuBLAS when one has already been registered\n",
      "2025-02-01 21:10:22.830039: I tensorflow/core/platform/cpu_feature_guard.cc:210] This TensorFlow binary is optimized to use available CPU instructions in performance-critical operations.\n",
      "To enable the following instructions: AVX2 FMA, in other operations, rebuild TensorFlow with the appropriate compiler flags.\n"
     ]
    }
   ],
   "source": [
    "from sklearn.model_selection import train_test_split\n",
    "from transformers import AutoTokenizer, TFAutoModel\n",
    "from tensorflow import keras\n",
    "from tensorflow.keras import layers, losses, optimizers, metrics, regularizers\n",
    "import pandas as pd\n",
    "import numpy as np\n",
    "import tensorflow as tf\n",
    "import sys"
   ]
  },
  {
   "cell_type": "code",
   "execution_count": 2,
   "id": "72ec501c-4145-4e78-ac9e-295391bde66c",
   "metadata": {},
   "outputs": [
    {
     "name": "stdout",
     "output_type": "stream",
     "text": [
      "<class 'pandas.core.frame.DataFrame'>\n",
      "Index: 23358 entries, 10528 to 34\n",
      "Data columns (total 4 columns):\n",
      " #   Column         Non-Null Count  Dtype \n",
      "---  ------         --------------  ----- \n",
      " 0   textID         23358 non-null  object\n",
      " 1   text           23358 non-null  object\n",
      " 2   selected_text  23358 non-null  object\n",
      " 3   sentiment      23358 non-null  object\n",
      "dtypes: object(4)\n",
      "memory usage: 912.4+ KB\n",
      "None\n",
      "<class 'pandas.core.frame.DataFrame'>\n",
      "Index: 4122 entries, 18139 to 12234\n",
      "Data columns (total 4 columns):\n",
      " #   Column         Non-Null Count  Dtype \n",
      "---  ------         --------------  ----- \n",
      " 0   textID         4122 non-null   object\n",
      " 1   text           4122 non-null   object\n",
      " 2   selected_text  4122 non-null   object\n",
      " 3   sentiment      4122 non-null   object\n",
      "dtypes: object(4)\n",
      "memory usage: 161.0+ KB\n",
      "None\n"
     ]
    }
   ],
   "source": [
    "train = pd.read_csv(\"data/train.csv\").dropna()\n",
    "train, test = train_test_split(train, test_size=0.15)\n",
    "print(train.info())\n",
    "print(test.info())\n",
    "# TODO see if selected_text needs to be fixed to word boundaries"
   ]
  },
  {
   "cell_type": "code",
   "execution_count": 3,
   "id": "7d49cf58-d62e-4887-b8dc-b120016513b3",
   "metadata": {},
   "outputs": [],
   "source": [
    "max_text_len = 128\n",
    "span_indices_size = max_text_len * (max_text_len + 1) // 2\n",
    "span_indices = np.zeros((max_text_len, max_text_len), dtype=int)\n",
    "span_indices[np.triu_indices(max_text_len, m=max_text_len)] = np.arange(span_indices_size)\n",
    "span_indices = np.flip(span_indices, axis=1)\n",
    "inference_batch_size = 2000\n",
    "\n",
    "def tokenize(texts, padding=True):\n",
    "    padding = \"max_length\" if padding else \"longest\"\n",
    "    return tokenizer(texts, padding=padding, max_length=max_text_len, return_tensors=\"tf\")\n",
    "\n",
    "def detokenize(ids, skip_special=True):\n",
    "    return tokenizer.batch_decode(ids, skip_special_tokens=skip_special)\n",
    "\n",
    "# https://stackoverflow.com/a/7100681\n",
    "def rolling_window(a, size):\n",
    "    shape = a.shape[:-1] + (a.shape[-1] - size + 1, size)\n",
    "    strides = a.strides + (a. strides[-1],)\n",
    "    return np.lib.stride_tricks.as_strided(a, shape=shape, strides=strides)\n",
    "\n",
    "def find_span(texts, spans, word_boundary=False):\n",
    "    texts = np.array(texts)\n",
    "    spans = np.array(spans)[:, 1:]\n",
    "    sizes = spans.argmin(axis=1) - 1\n",
    "    span_class = np.zeros((texts.shape[0], 1))\n",
    "    for i, text in enumerate(texts):\n",
    "        skips = 0\n",
    "        window_size = sizes[i]\n",
    "        if word_boundary:\n",
    "            allowed = set(texts[i])\n",
    "            if spans[i, 0] not in allowed and window_size > 1:\n",
    "                skips = 1\n",
    "            if spans[i, -1] not in allowed and window_size - skips > 1:\n",
    "                window_size -= 1\n",
    "        matched_window = rolling_window(texts[i], window_size - skips) == spans[i][skips:window_size]\n",
    "        window_from = matched_window.all(axis=1).argmax()\n",
    "        window_to = window_size - 1\n",
    "        try:\n",
    "            span_class[i] = span_indices[window_from, window_to]\n",
    "        except IndexError as e:\n",
    "            print(window_from, window_to, span_indices[window_from, window_to])\n",
    "            raise e\n",
    "    return span_class\n",
    "\n",
    "def span_range(index):\n",
    "    [d1], [d2] = np.where(span_indices == index)\n",
    "    return d1, d1 + d2 + 1\n",
    "\n",
    "def eprint(*args, **kwargs):\n",
    "    print(*args, **kwargs, file=sys.stderr)\n",
    "\n",
    "def print_mem_info():\n",
    "    info = tf.config.experimental.get_memory_info(\"/gpu:0\")\n",
    "    eprint(f\"GPU memory usage {(info[\"current\"] / info[\"peak\"]):.2f}.\")\n",
    "\n",
    "def context_embeddings(texts, sentiments, selected_texts=None):\n",
    "    text_tokens = tokenize(texts)\n",
    "    text_embeddings = encoder(**text_tokens).last_hidden_state\n",
    "    sentiment_tokens = tokenize(sentiments)\n",
    "    sentiment_embeddings = encoder(**sentiment_tokens).last_hidden_state[:, 1:2, :]  # only need embedding for one word\n",
    "    embeddings = tf.concat((text_embeddings, sentiment_embeddings), 1)\n",
    "    if selected_texts is None:\n",
    "        return embeddings\n",
    "    else:\n",
    "        selected_tokens = tokenize(selected_texts)\n",
    "        targets = find_span(text_tokens[\"input_ids\"], selected_tokens[\"input_ids\"], word_boundary=True)\n",
    "        return embeddings, targets\n",
    "\n",
    "def dataset_generator(texts, sentiments, selected_texts=None):\n",
    "    def gen():\n",
    "        total = len(texts)\n",
    "        yielded = 0\n",
    "        while yielded < total:\n",
    "            batch_i = yielded % inference_batch_size\n",
    "            # batch inferencing\n",
    "            if batch_i == 0:\n",
    "                end = min(total, yielded + inference_batch_size)\n",
    "                if selected_texts is None:\n",
    "                    embeddings = context_embeddings(texts[yielded:end], sentiments[yielded:end])\n",
    "                else:\n",
    "                    embeddings, targets = context_embeddings(texts[yielded:end], sentiments[yielded:end], selected_texts[yielded:end])\n",
    "            # feed the generator\n",
    "            if selected_texts is None:\n",
    "                yield embeddings[batch_i]\n",
    "            else:\n",
    "                yield embeddings[batch_i], targets[batch_i]\n",
    "            yielded += 1\n",
    "    return gen"
   ]
  },
  {
   "cell_type": "markdown",
   "id": "b6f2be6b-b765-49c3-baf3-cfb900f02f42",
   "metadata": {},
   "source": [
    "Naive implementation, flattened embeddings into FFN with one hidden layer."
   ]
  },
  {
   "cell_type": "code",
   "execution_count": 4,
   "id": "98313e89-cfa9-4bd9-bf5b-6f305ea0d7e6",
   "metadata": {
    "scrolled": true
   },
   "outputs": [
    {
     "name": "stderr",
     "output_type": "stream",
     "text": [
      "I0000 00:00:1738462224.602210   33219 gpu_device.cc:2022] Created device /job:localhost/replica:0/task:0/device:GPU:0 with 21875 MB memory:  -> device: 0, name: NVIDIA GeForce RTX 3090, pci bus id: 0000:01:00.0, compute capability: 8.6\n",
      "Some weights of the PyTorch model were not used when initializing the TF 2.0 model TFDistilBertModel: ['vocab_layer_norm.weight', 'vocab_projector.bias', 'vocab_layer_norm.bias', 'vocab_transform.weight', 'vocab_transform.bias']\n",
      "- This IS expected if you are initializing TFDistilBertModel from a PyTorch model trained on another task or with another architecture (e.g. initializing a TFBertForSequenceClassification model from a BertForPreTraining model).\n",
      "- This IS NOT expected if you are initializing TFDistilBertModel from a PyTorch model that you expect to be exactly identical (e.g. initializing a TFBertForSequenceClassification model from a BertForSequenceClassification model).\n",
      "All the weights of TFDistilBertModel were initialized from the PyTorch model.\n",
      "If your task is similar to the task the model of the checkpoint was trained on, you can already use TFDistilBertModel for predictions without further training.\n"
     ]
    },
    {
     "name": "stdout",
     "output_type": "stream",
     "text": [
      "Epoch 1/10\n"
     ]
    },
    {
     "name": "stderr",
     "output_type": "stream",
     "text": [
      "WARNING: All log messages before absl::InitializeLog() is called are written to STDERR\n",
      "I0000 00:00:1738462234.228054   33329 service.cc:148] XLA service 0x7f473c005de0 initialized for platform CUDA (this does not guarantee that XLA will be used). Devices:\n",
      "I0000 00:00:1738462234.228077   33329 service.cc:156]   StreamExecutor device (0): NVIDIA GeForce RTX 3090, Compute Capability 8.6\n",
      "2025-02-01 21:10:34.245090: I tensorflow/compiler/mlir/tensorflow/utils/dump_mlir_util.cc:268] disabling MLIR crash reproducer, set env var `MLIR_CRASH_REPRODUCER_DIRECTORY` to enable.\n",
      "I0000 00:00:1738462234.299621   33329 cuda_dnn.cc:529] Loaded cuDNN version 90300\n",
      "2025-02-01 21:10:34.887324: I external/local_xla/xla/stream_executor/cuda/cuda_asm_compiler.cc:397] ptxas warning : Registers are spilled to local memory in function 'gemm_fusion_dot_297', 112 bytes spill stores, 116 bytes spill loads\n",
      "\n",
      "2025-02-01 21:10:35.325563: I external/local_xla/xla/stream_executor/cuda/cuda_asm_compiler.cc:397] ptxas warning : Registers are spilled to local memory in function 'gemm_fusion_dot_297_0', 52 bytes spill stores, 52 bytes spill loads\n",
      "\n",
      "2025-02-01 21:10:35.328183: I external/local_xla/xla/stream_executor/cuda/cuda_asm_compiler.cc:397] ptxas warning : Registers are spilled to local memory in function 'gemm_fusion_dot_297', 80 bytes spill stores, 80 bytes spill loads\n",
      "\n",
      "2025-02-01 21:10:35.505602: I external/local_xla/xla/stream_executor/cuda/cuda_asm_compiler.cc:397] ptxas warning : Registers are spilled to local memory in function 'gemm_fusion_dot_297', 312 bytes spill stores, 312 bytes spill loads\n",
      "\n",
      "2025-02-01 21:10:35.550063: I external/local_xla/xla/stream_executor/cuda/cuda_asm_compiler.cc:397] ptxas warning : Registers are spilled to local memory in function 'gemm_fusion_dot_297', 1192 bytes spill stores, 1164 bytes spill loads\n",
      "\n",
      "2025-02-01 21:10:35.641756: I external/local_xla/xla/stream_executor/cuda/cuda_asm_compiler.cc:397] ptxas warning : Registers are spilled to local memory in function 'gemm_fusion_dot_232', 132 bytes spill stores, 132 bytes spill loads\n",
      "\n",
      "2025-02-01 21:10:35.644540: I external/local_xla/xla/stream_executor/cuda/cuda_asm_compiler.cc:397] ptxas warning : Registers are spilled to local memory in function 'gemm_fusion_dot_232', 128 bytes spill stores, 128 bytes spill loads\n",
      "\n"
     ]
    },
    {
     "name": "stdout",
     "output_type": "stream",
     "text": [
      "      5/Unknown \u001b[1m10s\u001b[0m 36ms/step - loss: 8.6980 - sparse_categorical_accuracy: 0.0219   "
     ]
    },
    {
     "name": "stderr",
     "output_type": "stream",
     "text": [
      "I0000 00:00:1738462236.210931   33329 device_compiler.h:188] Compiled cluster using XLA!  This line is logged at most once for the lifetime of the process.\n"
     ]
    },
    {
     "name": "stdout",
     "output_type": "stream",
     "text": [
      "    360/Unknown \u001b[1m53s\u001b[0m 118ms/step - loss: 4.6309 - sparse_categorical_accuracy: 0.2791"
     ]
    },
    {
     "name": "stderr",
     "output_type": "stream",
     "text": [
      "2025-02-01 21:11:19.495813: I external/local_xla/xla/stream_executor/cuda/cuda_asm_compiler.cc:397] ptxas warning : Registers are spilled to local memory in function 'gemm_fusion_dot_297', 80 bytes spill stores, 80 bytes spill loads\n",
      "\n",
      "2025-02-01 21:11:19.567323: I external/local_xla/xla/stream_executor/cuda/cuda_asm_compiler.cc:397] ptxas warning : Registers are spilled to local memory in function 'gemm_fusion_dot_297', 140 bytes spill stores, 144 bytes spill loads\n",
      "\n",
      "2025-02-01 21:11:19.623810: I external/local_xla/xla/stream_executor/cuda/cuda_asm_compiler.cc:397] ptxas warning : Registers are spilled to local memory in function 'gemm_fusion_dot_297', 336 bytes spill stores, 336 bytes spill loads\n",
      "\n",
      "2025-02-01 21:11:19.970894: I external/local_xla/xla/stream_executor/cuda/cuda_asm_compiler.cc:397] ptxas warning : Registers are spilled to local memory in function 'gemm_fusion_dot_297', 4 bytes spill stores, 4 bytes spill loads\n",
      "\n",
      "2025-02-01 21:11:20.035558: I external/local_xla/xla/stream_executor/cuda/cuda_asm_compiler.cc:397] ptxas warning : Registers are spilled to local memory in function 'gemm_fusion_dot_297', 1584 bytes spill stores, 1168 bytes spill loads\n",
      "\n",
      "2025-02-01 21:11:20.049685: I external/local_xla/xla/stream_executor/cuda/cuda_asm_compiler.cc:397] ptxas warning : Registers are spilled to local memory in function 'gemm_fusion_dot_232', 24 bytes spill stores, 24 bytes spill loads\n",
      "\n",
      "2025-02-01 21:11:20.086899: I external/local_xla/xla/stream_executor/cuda/cuda_asm_compiler.cc:397] ptxas warning : Registers are spilled to local memory in function 'gemm_fusion_dot_232', 88 bytes spill stores, 88 bytes spill loads\n",
      "\n",
      "2025-02-01 21:11:20.095998: I external/local_xla/xla/stream_executor/cuda/cuda_asm_compiler.cc:397] ptxas warning : Registers are spilled to local memory in function 'gemm_fusion_dot_232', 80 bytes spill stores, 80 bytes spill loads\n",
      "\n",
      "2025-02-01 21:11:20.158165: I external/local_xla/xla/stream_executor/cuda/cuda_asm_compiler.cc:397] ptxas warning : Registers are spilled to local memory in function 'gemm_fusion_dot_232', 72 bytes spill stores, 72 bytes spill loads\n",
      "\n",
      "2025-02-01 21:11:20.164952: I external/local_xla/xla/stream_executor/cuda/cuda_asm_compiler.cc:397] ptxas warning : Registers are spilled to local memory in function 'gemm_fusion_dot_297_0', 56 bytes spill stores, 56 bytes spill loads\n",
      "\n"
     ]
    },
    {
     "name": "stdout",
     "output_type": "stream",
     "text": [
      "    365/Unknown \u001b[1m55s\u001b[0m 122ms/step - loss: 4.6202 - sparse_categorical_accuracy: 0.2802"
     ]
    },
    {
     "name": "stderr",
     "output_type": "stream",
     "text": [
      "2025-02-01 21:11:20.778542: I tensorflow/core/framework/local_rendezvous.cc:405] Local rendezvous is aborting with status: OUT_OF_RANGE: End of sequence\n",
      "\t [[{{node IteratorGetNext}}]]\n",
      "2025-02-01 21:11:20.778582: I tensorflow/core/framework/local_rendezvous.cc:405] Local rendezvous is aborting with status: OUT_OF_RANGE: End of sequence\n",
      "\t [[{{node IteratorGetNext}}]]\n",
      "\t [[IteratorGetNext/_2]]\n",
      "2025-02-01 21:11:20.778592: I tensorflow/core/framework/local_rendezvous.cc:424] Local rendezvous recv item cancelled. Key hash: 9836136364414748703\n",
      "2025-02-01 21:11:20.778602: I tensorflow/core/framework/local_rendezvous.cc:424] Local rendezvous recv item cancelled. Key hash: 7920860115475247555\n",
      "/home/yu/kaggle-tweet-sentiment/.venv/lib64/python3.12/site-packages/keras/src/trainers/epoch_iterator.py:151: UserWarning: Your input ran out of data; interrupting training. Make sure that your dataset or generator can generate at least `steps_per_epoch * epochs` batches. You may need to use the `.repeat()` function when building your dataset.\n",
      "  self._interrupted_warning()\n"
     ]
    },
    {
     "name": "stdout",
     "output_type": "stream",
     "text": [
      "\u001b[1m365/365\u001b[0m \u001b[32m━━━━━━━━━━━━━━━━━━━━\u001b[0m\u001b[37m\u001b[0m \u001b[1m65s\u001b[0m 149ms/step - loss: 4.6180 - sparse_categorical_accuracy: 0.2805 - val_loss: 3.2811 - val_sparse_categorical_accuracy: 0.4136\n",
      "Epoch 2/10\n"
     ]
    },
    {
     "name": "stderr",
     "output_type": "stream",
     "text": [
      "2025-02-01 21:11:30.446993: I tensorflow/core/framework/local_rendezvous.cc:405] Local rendezvous is aborting with status: OUT_OF_RANGE: End of sequence\n",
      "\t [[{{node IteratorGetNext}}]]\n",
      "\t [[IteratorGetNext/_2]]\n",
      "2025-02-01 21:11:30.447016: I tensorflow/core/framework/local_rendezvous.cc:424] Local rendezvous recv item cancelled. Key hash: 9836136364414748703\n",
      "2025-02-01 21:11:30.447024: I tensorflow/core/framework/local_rendezvous.cc:424] Local rendezvous recv item cancelled. Key hash: 7920860115475247555\n"
     ]
    },
    {
     "name": "stdout",
     "output_type": "stream",
     "text": [
      "\u001b[1m360/365\u001b[0m \u001b[32m━━━━━━━━━━━━━━━━━━━\u001b[0m\u001b[37m━\u001b[0m \u001b[1m0s\u001b[0m 119ms/step - loss: 2.8705 - sparse_categorical_accuracy: 0.4461 "
     ]
    },
    {
     "name": "stderr",
     "output_type": "stream",
     "text": [
      "2025-02-01 21:12:20.183978: I tensorflow/core/framework/local_rendezvous.cc:424] Local rendezvous recv item cancelled. Key hash: 9836136364414748703\n",
      "2025-02-01 21:12:20.184005: I tensorflow/core/framework/local_rendezvous.cc:424] Local rendezvous recv item cancelled. Key hash: 7920860115475247555\n"
     ]
    },
    {
     "name": "stdout",
     "output_type": "stream",
     "text": [
      "\u001b[1m365/365\u001b[0m \u001b[32m━━━━━━━━━━━━━━━━━━━━\u001b[0m\u001b[37m\u001b[0m \u001b[1m58s\u001b[0m 140ms/step - loss: 2.8694 - sparse_categorical_accuracy: 0.4461 - val_loss: 3.2204 - val_sparse_categorical_accuracy: 0.4095\n",
      "Epoch 3/10\n"
     ]
    },
    {
     "name": "stderr",
     "output_type": "stream",
     "text": [
      "2025-02-01 21:12:28.641631: I tensorflow/core/framework/local_rendezvous.cc:405] Local rendezvous is aborting with status: OUT_OF_RANGE: End of sequence\n",
      "\t [[{{node IteratorGetNext}}]]\n",
      "\t [[IteratorGetNext/_2]]\n",
      "2025-02-01 21:12:28.641667: I tensorflow/core/framework/local_rendezvous.cc:424] Local rendezvous recv item cancelled. Key hash: 9836136364414748703\n",
      "2025-02-01 21:12:28.641678: I tensorflow/core/framework/local_rendezvous.cc:424] Local rendezvous recv item cancelled. Key hash: 7920860115475247555\n"
     ]
    },
    {
     "name": "stdout",
     "output_type": "stream",
     "text": [
      "\u001b[1m360/365\u001b[0m \u001b[32m━━━━━━━━━━━━━━━━━━━\u001b[0m\u001b[37m━\u001b[0m \u001b[1m0s\u001b[0m 119ms/step - loss: 2.4621 - sparse_categorical_accuracy: 0.4778 "
     ]
    },
    {
     "name": "stderr",
     "output_type": "stream",
     "text": [
      "2025-02-01 21:13:18.496109: I tensorflow/core/framework/local_rendezvous.cc:424] Local rendezvous recv item cancelled. Key hash: 9836136364414748703\n",
      "2025-02-01 21:13:18.496134: I tensorflow/core/framework/local_rendezvous.cc:424] Local rendezvous recv item cancelled. Key hash: 7920860115475247555\n"
     ]
    },
    {
     "name": "stdout",
     "output_type": "stream",
     "text": [
      "\u001b[1m365/365\u001b[0m \u001b[32m━━━━━━━━━━━━━━━━━━━━\u001b[0m\u001b[37m\u001b[0m \u001b[1m58s\u001b[0m 141ms/step - loss: 2.4612 - sparse_categorical_accuracy: 0.4779 - val_loss: 3.2978 - val_sparse_categorical_accuracy: 0.4241\n",
      "Epoch 4/10\n"
     ]
    },
    {
     "name": "stderr",
     "output_type": "stream",
     "text": [
      "2025-02-01 21:13:27.053299: I tensorflow/core/framework/local_rendezvous.cc:424] Local rendezvous recv item cancelled. Key hash: 9836136364414748703\n",
      "2025-02-01 21:13:27.053326: I tensorflow/core/framework/local_rendezvous.cc:424] Local rendezvous recv item cancelled. Key hash: 7920860115475247555\n"
     ]
    },
    {
     "name": "stdout",
     "output_type": "stream",
     "text": [
      "\u001b[1m360/365\u001b[0m \u001b[32m━━━━━━━━━━━━━━━━━━━\u001b[0m\u001b[37m━\u001b[0m \u001b[1m0s\u001b[0m 117ms/step - loss: 2.1092 - sparse_categorical_accuracy: 0.5159 "
     ]
    },
    {
     "name": "stderr",
     "output_type": "stream",
     "text": [
      "2025-02-01 21:14:16.469824: I tensorflow/core/framework/local_rendezvous.cc:424] Local rendezvous recv item cancelled. Key hash: 9836136364414748703\n",
      "2025-02-01 21:14:16.469851: I tensorflow/core/framework/local_rendezvous.cc:424] Local rendezvous recv item cancelled. Key hash: 7920860115475247555\n"
     ]
    },
    {
     "name": "stdout",
     "output_type": "stream",
     "text": [
      "\u001b[1m365/365\u001b[0m \u001b[32m━━━━━━━━━━━━━━━━━━━━\u001b[0m\u001b[37m\u001b[0m \u001b[1m58s\u001b[0m 139ms/step - loss: 2.1083 - sparse_categorical_accuracy: 0.5161 - val_loss: 3.4392 - val_sparse_categorical_accuracy: 0.4226\n",
      "Epoch 5/10\n"
     ]
    },
    {
     "name": "stderr",
     "output_type": "stream",
     "text": [
      "2025-02-01 21:14:25.096006: I tensorflow/core/framework/local_rendezvous.cc:405] Local rendezvous is aborting with status: OUT_OF_RANGE: End of sequence\n",
      "\t [[{{node IteratorGetNext}}]]\n",
      "\t [[IteratorGetNext/_2]]\n",
      "2025-02-01 21:14:25.096043: I tensorflow/core/framework/local_rendezvous.cc:424] Local rendezvous recv item cancelled. Key hash: 9836136364414748703\n",
      "2025-02-01 21:14:25.096052: I tensorflow/core/framework/local_rendezvous.cc:424] Local rendezvous recv item cancelled. Key hash: 7920860115475247555\n"
     ]
    },
    {
     "name": "stdout",
     "output_type": "stream",
     "text": [
      "\u001b[1m360/365\u001b[0m \u001b[32m━━━━━━━━━━━━━━━━━━━\u001b[0m\u001b[37m━\u001b[0m \u001b[1m0s\u001b[0m 115ms/step - loss: 1.7536 - sparse_categorical_accuracy: 0.5724 "
     ]
    },
    {
     "name": "stderr",
     "output_type": "stream",
     "text": [
      "2025-02-01 21:15:13.656681: I tensorflow/core/framework/local_rendezvous.cc:424] Local rendezvous recv item cancelled. Key hash: 9836136364414748703\n",
      "2025-02-01 21:15:13.656710: I tensorflow/core/framework/local_rendezvous.cc:424] Local rendezvous recv item cancelled. Key hash: 7920860115475247555\n"
     ]
    },
    {
     "name": "stdout",
     "output_type": "stream",
     "text": [
      "\u001b[1m365/365\u001b[0m \u001b[32m━━━━━━━━━━━━━━━━━━━━\u001b[0m\u001b[37m\u001b[0m \u001b[1m57s\u001b[0m 137ms/step - loss: 1.7530 - sparse_categorical_accuracy: 0.5725 - val_loss: 3.6482 - val_sparse_categorical_accuracy: 0.4148\n",
      "Epoch 6/10\n"
     ]
    },
    {
     "name": "stderr",
     "output_type": "stream",
     "text": [
      "2025-02-01 21:15:22.103619: I tensorflow/core/framework/local_rendezvous.cc:424] Local rendezvous recv item cancelled. Key hash: 9836136364414748703\n",
      "2025-02-01 21:15:22.103663: I tensorflow/core/framework/local_rendezvous.cc:424] Local rendezvous recv item cancelled. Key hash: 7920860115475247555\n"
     ]
    },
    {
     "name": "stdout",
     "output_type": "stream",
     "text": [
      "\u001b[1m360/365\u001b[0m \u001b[32m━━━━━━━━━━━━━━━━━━━\u001b[0m\u001b[37m━\u001b[0m \u001b[1m0s\u001b[0m 117ms/step - loss: 1.4153 - sparse_categorical_accuracy: 0.6318 "
     ]
    },
    {
     "name": "stderr",
     "output_type": "stream",
     "text": [
      "2025-02-01 21:16:11.401270: I tensorflow/core/framework/local_rendezvous.cc:424] Local rendezvous recv item cancelled. Key hash: 9836136364414748703\n",
      "2025-02-01 21:16:11.401298: I tensorflow/core/framework/local_rendezvous.cc:424] Local rendezvous recv item cancelled. Key hash: 7920860115475247555\n"
     ]
    },
    {
     "name": "stdout",
     "output_type": "stream",
     "text": [
      "\u001b[1m365/365\u001b[0m \u001b[32m━━━━━━━━━━━━━━━━━━━━\u001b[0m\u001b[37m\u001b[0m \u001b[1m58s\u001b[0m 139ms/step - loss: 1.4148 - sparse_categorical_accuracy: 0.6319 - val_loss: 3.9508 - val_sparse_categorical_accuracy: 0.4115\n",
      "Epoch 7/10\n"
     ]
    },
    {
     "name": "stderr",
     "output_type": "stream",
     "text": [
      "2025-02-01 21:16:19.904227: I tensorflow/core/framework/local_rendezvous.cc:424] Local rendezvous recv item cancelled. Key hash: 9836136364414748703\n",
      "2025-02-01 21:16:19.904262: I tensorflow/core/framework/local_rendezvous.cc:424] Local rendezvous recv item cancelled. Key hash: 7920860115475247555\n"
     ]
    },
    {
     "name": "stdout",
     "output_type": "stream",
     "text": [
      "\u001b[1m360/365\u001b[0m \u001b[32m━━━━━━━━━━━━━━━━━━━\u001b[0m\u001b[37m━\u001b[0m \u001b[1m0s\u001b[0m 116ms/step - loss: 1.1261 - sparse_categorical_accuracy: 0.6965 "
     ]
    },
    {
     "name": "stderr",
     "output_type": "stream",
     "text": [
      "2025-02-01 21:17:08.729729: I tensorflow/core/framework/local_rendezvous.cc:424] Local rendezvous recv item cancelled. Key hash: 9836136364414748703\n",
      "2025-02-01 21:17:08.729757: I tensorflow/core/framework/local_rendezvous.cc:424] Local rendezvous recv item cancelled. Key hash: 7920860115475247555\n"
     ]
    },
    {
     "name": "stdout",
     "output_type": "stream",
     "text": [
      "\u001b[1m365/365\u001b[0m \u001b[32m━━━━━━━━━━━━━━━━━━━━\u001b[0m\u001b[37m\u001b[0m \u001b[1m57s\u001b[0m 137ms/step - loss: 1.1257 - sparse_categorical_accuracy: 0.6966 - val_loss: 4.1739 - val_sparse_categorical_accuracy: 0.4158\n",
      "Epoch 8/10\n"
     ]
    },
    {
     "name": "stderr",
     "output_type": "stream",
     "text": [
      "2025-02-01 21:17:17.219555: I tensorflow/core/framework/local_rendezvous.cc:424] Local rendezvous recv item cancelled. Key hash: 9836136364414748703\n",
      "2025-02-01 21:17:17.219585: I tensorflow/core/framework/local_rendezvous.cc:424] Local rendezvous recv item cancelled. Key hash: 7920860115475247555\n"
     ]
    },
    {
     "name": "stdout",
     "output_type": "stream",
     "text": [
      "\u001b[1m360/365\u001b[0m \u001b[32m━━━━━━━━━━━━━━━━━━━\u001b[0m\u001b[37m━\u001b[0m \u001b[1m0s\u001b[0m 115ms/step - loss: 0.8742 - sparse_categorical_accuracy: 0.7548 "
     ]
    },
    {
     "name": "stderr",
     "output_type": "stream",
     "text": [
      "2025-02-01 21:18:05.913424: I tensorflow/core/framework/local_rendezvous.cc:424] Local rendezvous recv item cancelled. Key hash: 9836136364414748703\n",
      "2025-02-01 21:18:05.913452: I tensorflow/core/framework/local_rendezvous.cc:424] Local rendezvous recv item cancelled. Key hash: 7920860115475247555\n"
     ]
    },
    {
     "name": "stdout",
     "output_type": "stream",
     "text": [
      "\u001b[1m365/365\u001b[0m \u001b[32m━━━━━━━━━━━━━━━━━━━━\u001b[0m\u001b[37m\u001b[0m \u001b[1m57s\u001b[0m 137ms/step - loss: 0.8743 - sparse_categorical_accuracy: 0.7548 - val_loss: 4.5377 - val_sparse_categorical_accuracy: 0.4170\n",
      "Epoch 9/10\n"
     ]
    },
    {
     "name": "stderr",
     "output_type": "stream",
     "text": [
      "2025-02-01 21:18:14.386468: I tensorflow/core/framework/local_rendezvous.cc:405] Local rendezvous is aborting with status: OUT_OF_RANGE: End of sequence\n",
      "\t [[{{node IteratorGetNext}}]]\n",
      "\t [[IteratorGetNext/_2]]\n",
      "2025-02-01 21:18:14.386502: I tensorflow/core/framework/local_rendezvous.cc:424] Local rendezvous recv item cancelled. Key hash: 9836136364414748703\n",
      "2025-02-01 21:18:14.386511: I tensorflow/core/framework/local_rendezvous.cc:424] Local rendezvous recv item cancelled. Key hash: 7920860115475247555\n"
     ]
    },
    {
     "name": "stdout",
     "output_type": "stream",
     "text": [
      "\u001b[1m360/365\u001b[0m \u001b[32m━━━━━━━━━━━━━━━━━━━\u001b[0m\u001b[37m━\u001b[0m \u001b[1m0s\u001b[0m 116ms/step - loss: 0.6827 - sparse_categorical_accuracy: 0.8024 "
     ]
    },
    {
     "name": "stderr",
     "output_type": "stream",
     "text": [
      "2025-02-01 21:19:03.126643: I tensorflow/core/framework/local_rendezvous.cc:424] Local rendezvous recv item cancelled. Key hash: 9836136364414748703\n",
      "2025-02-01 21:19:03.126673: I tensorflow/core/framework/local_rendezvous.cc:424] Local rendezvous recv item cancelled. Key hash: 7920860115475247555\n"
     ]
    },
    {
     "name": "stdout",
     "output_type": "stream",
     "text": [
      "\u001b[1m365/365\u001b[0m \u001b[32m━━━━━━━━━━━━━━━━━━━━\u001b[0m\u001b[37m\u001b[0m \u001b[1m57s\u001b[0m 138ms/step - loss: 0.6828 - sparse_categorical_accuracy: 0.8024 - val_loss: 4.8323 - val_sparse_categorical_accuracy: 0.4115\n",
      "Epoch 10/10\n"
     ]
    },
    {
     "name": "stderr",
     "output_type": "stream",
     "text": [
      "2025-02-01 21:19:11.616189: I tensorflow/core/framework/local_rendezvous.cc:424] Local rendezvous recv item cancelled. Key hash: 9836136364414748703\n",
      "2025-02-01 21:19:11.616249: I tensorflow/core/framework/local_rendezvous.cc:424] Local rendezvous recv item cancelled. Key hash: 7920860115475247555\n"
     ]
    },
    {
     "name": "stdout",
     "output_type": "stream",
     "text": [
      "\u001b[1m360/365\u001b[0m \u001b[32m━━━━━━━━━━━━━━━━━━━\u001b[0m\u001b[37m━\u001b[0m \u001b[1m0s\u001b[0m 115ms/step - loss: 0.5429 - sparse_categorical_accuracy: 0.8430 "
     ]
    },
    {
     "name": "stderr",
     "output_type": "stream",
     "text": [
      "2025-02-01 21:20:00.186907: I tensorflow/core/framework/local_rendezvous.cc:424] Local rendezvous recv item cancelled. Key hash: 9836136364414748703\n",
      "2025-02-01 21:20:00.194551: I tensorflow/core/framework/local_rendezvous.cc:424] Local rendezvous recv item cancelled. Key hash: 7920860115475247555\n"
     ]
    },
    {
     "name": "stdout",
     "output_type": "stream",
     "text": [
      "\u001b[1m365/365\u001b[0m \u001b[32m━━━━━━━━━━━━━━━━━━━━\u001b[0m\u001b[37m\u001b[0m \u001b[1m57s\u001b[0m 137ms/step - loss: 0.5428 - sparse_categorical_accuracy: 0.8431 - val_loss: 5.3295 - val_sparse_categorical_accuracy: 0.4059\n"
     ]
    },
    {
     "name": "stderr",
     "output_type": "stream",
     "text": [
      "2025-02-01 21:20:08.636943: I tensorflow/core/framework/local_rendezvous.cc:424] Local rendezvous recv item cancelled. Key hash: 9836136364414748703\n",
      "2025-02-01 21:20:08.636975: I tensorflow/core/framework/local_rendezvous.cc:424] Local rendezvous recv item cancelled. Key hash: 7920860115475247555\n"
     ]
    }
   ],
   "source": [
    "inputs = keras.Input(shape=(1 + max_text_len, 768))\n",
    "softmax = layers.Dense(span_indices_size, activation=\"softmax\", kernel_regularizer=\"l1l2\", bias_regularizer=\"l2\")(\n",
    "          layers.Dense(128, activation=\"relu\", kernel_regularizer=\"l1l2\", bias_regularizer=\"l2\")(\n",
    "          layers.Flatten()(\n",
    "          inputs)))\n",
    "ffn = keras.Model(inputs=inputs, outputs=softmax)\n",
    "ffn.compile(\n",
    "    optimizer=optimizers.Adam(),\n",
    "    loss=losses.SparseCategoricalCrossentropy(),\n",
    "    metrics=[metrics.SparseCategoricalAccuracy()]\n",
    ")\n",
    "\n",
    "tokenizer = AutoTokenizer.from_pretrained(\"distilbert-base-uncased\")\n",
    "encoder = TFAutoModel.from_pretrained(\"distilbert-base-uncased\")\n",
    "dataset_train = tf.data.Dataset.from_generator(\n",
    "    dataset_generator(train.text.to_list(), train.sentiment.to_list(), train.selected_text.to_list()),\n",
    "    output_signature=(tf.TensorSpec(shape=(1 + max_text_len, 768)), tf.TensorSpec(shape=(1,)))\n",
    ").shuffle(inference_batch_size)\n",
    "dataset_test = tf.data.Dataset.from_generator(\n",
    "    dataset_generator(test.text.to_list(), test.sentiment.to_list(), test.selected_text.to_list()),\n",
    "    output_signature=(tf.TensorSpec(shape=(1 + max_text_len, 768)), tf.TensorSpec(shape=(1,)))\n",
    ")\n",
    "history = ffn.fit(dataset_train.batch(64), epochs=10, validation_data=dataset_test.batch(64))"
   ]
  },
  {
   "cell_type": "code",
   "execution_count": 5,
   "id": "cc613c17-5308-43d2-9faf-6446fe5f3218",
   "metadata": {},
   "outputs": [
    {
     "name": "stdout",
     "output_type": "stream",
     "text": [
      "\u001b[1m65/65\u001b[0m \u001b[32m━━━━━━━━━━━━━━━━━━━━\u001b[0m\u001b[37m\u001b[0m \u001b[1m9s\u001b[0m 90ms/step\n"
     ]
    },
    {
     "data": {
      "text/plain": [
       "0.09831528591392338"
      ]
     },
     "execution_count": 5,
     "metadata": {},
     "output_type": "execute_result"
    }
   ],
   "source": [
    "# https://www.kaggle.com/competitions/tweet-sentiment-extraction\n",
    "def jaccard(str1, str2):\n",
    "    a = set(str1.lower().split())\n",
    "    b = set(str2.lower().split())\n",
    "    c = a.intersection(b)\n",
    "    return float(len(c)) / (len(a) + len(b) - len(c))\n",
    "\n",
    "score = 0\n",
    "total = test.shape[0]\n",
    "y = ffn.predict(dataset_test.batch(64))\n",
    "y = tf.math.argmax(y, axis=1)\n",
    "for i, y in enumerate(y):\n",
    "    span_from, span_to = span_range(y)\n",
    "    y_str = test.text.iloc[i][span_from:span_to]\n",
    "    t_str = test.selected_text.iloc[i]\n",
    "    score += 1 / total * jaccard(y_str, t_str)\n",
    "score"
   ]
  },
  {
   "cell_type": "code",
   "execution_count": null,
   "id": "f535b286-6b40-4957-a0e9-3f866ba68cce",
   "metadata": {},
   "outputs": [],
   "source": []
  }
 ],
 "metadata": {
  "kernelspec": {
   "display_name": "Python 3 (ipykernel)",
   "language": "python",
   "name": "python3"
  },
  "language_info": {
   "codemirror_mode": {
    "name": "ipython",
    "version": 3
   },
   "file_extension": ".py",
   "mimetype": "text/x-python",
   "name": "python",
   "nbconvert_exporter": "python",
   "pygments_lexer": "ipython3",
   "version": "3.12.8"
  }
 },
 "nbformat": 4,
 "nbformat_minor": 5
}
