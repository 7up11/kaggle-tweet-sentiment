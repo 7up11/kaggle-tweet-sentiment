{
 "cells": [
  {
   "cell_type": "code",
   "execution_count": 1,
   "id": "cb7b5c32-53e7-46a6-8fc1-c1a0f399d4cb",
   "metadata": {},
   "outputs": [
    {
     "name": "stderr",
     "output_type": "stream",
     "text": [
      "/home/yu/kaggle-tweet-sentiment/.venv/lib64/python3.12/site-packages/tqdm/auto.py:21: TqdmWarning: IProgress not found. Please update jupyter and ipywidgets. See https://ipywidgets.readthedocs.io/en/stable/user_install.html\n",
      "  from .autonotebook import tqdm as notebook_tqdm\n",
      "2025-02-02 12:20:12.749565: E external/local_xla/xla/stream_executor/cuda/cuda_fft.cc:477] Unable to register cuFFT factory: Attempting to register factory for plugin cuFFT when one has already been registered\n",
      "WARNING: All log messages before absl::InitializeLog() is called are written to STDERR\n",
      "E0000 00:00:1738516812.761070  162194 cuda_dnn.cc:8310] Unable to register cuDNN factory: Attempting to register factory for plugin cuDNN when one has already been registered\n",
      "E0000 00:00:1738516812.764498  162194 cuda_blas.cc:1418] Unable to register cuBLAS factory: Attempting to register factory for plugin cuBLAS when one has already been registered\n",
      "2025-02-02 12:20:12.776531: I tensorflow/core/platform/cpu_feature_guard.cc:210] This TensorFlow binary is optimized to use available CPU instructions in performance-critical operations.\n",
      "To enable the following instructions: AVX2 FMA, in other operations, rebuild TensorFlow with the appropriate compiler flags.\n"
     ]
    }
   ],
   "source": [
    "from sklearn.model_selection import train_test_split\n",
    "from transformers import AutoTokenizer, TFAutoModel\n",
    "from tensorflow import keras\n",
    "from tensorflow.keras import layers, losses, optimizers, metrics, regularizers\n",
    "from matplotlib import pyplot as plt\n",
    "import pandas as pd\n",
    "import numpy as np\n",
    "import tensorflow as tf\n",
    "import sys"
   ]
  },
  {
   "cell_type": "code",
   "execution_count": 2,
   "id": "72ec501c-4145-4e78-ac9e-295391bde66c",
   "metadata": {},
   "outputs": [
    {
     "name": "stdout",
     "output_type": "stream",
     "text": [
      "<class 'pandas.core.frame.DataFrame'>\n",
      "Index: 23358 entries, 24777 to 13779\n",
      "Data columns (total 4 columns):\n",
      " #   Column         Non-Null Count  Dtype \n",
      "---  ------         --------------  ----- \n",
      " 0   textID         23358 non-null  object\n",
      " 1   text           23358 non-null  object\n",
      " 2   selected_text  23358 non-null  object\n",
      " 3   sentiment      23358 non-null  object\n",
      "dtypes: object(4)\n",
      "memory usage: 912.4+ KB\n",
      "None\n",
      "<class 'pandas.core.frame.DataFrame'>\n",
      "Index: 4122 entries, 12352 to 22757\n",
      "Data columns (total 4 columns):\n",
      " #   Column         Non-Null Count  Dtype \n",
      "---  ------         --------------  ----- \n",
      " 0   textID         4122 non-null   object\n",
      " 1   text           4122 non-null   object\n",
      " 2   selected_text  4122 non-null   object\n",
      " 3   sentiment      4122 non-null   object\n",
      "dtypes: object(4)\n",
      "memory usage: 161.0+ KB\n",
      "None\n"
     ]
    }
   ],
   "source": [
    "train = pd.read_csv(\"data/train.csv\").dropna()\n",
    "train, test = train_test_split(train, test_size=0.15)\n",
    "print(train.info())\n",
    "print(test.info())"
   ]
  },
  {
   "cell_type": "code",
   "execution_count": 3,
   "id": "7d49cf58-d62e-4887-b8dc-b120016513b3",
   "metadata": {},
   "outputs": [],
   "source": [
    "max_text_len = 128\n",
    "inference_batch_size = 1000\n",
    "\n",
    "def tokenize(texts, padding=True):\n",
    "    padding = \"max_length\" if padding else \"longest\"\n",
    "    return tokenizer(texts, padding=padding, max_length=max_text_len, return_tensors=\"tf\")\n",
    "\n",
    "def detokenize(ids, skip_special=True):\n",
    "    return tokenizer.batch_decode(ids, skip_special_tokens=skip_special)\n",
    "\n",
    "# https://stackoverflow.com/a/7100681\n",
    "def rolling_window(a, size):\n",
    "    shape = a.shape[:-1] + (a.shape[-1] - size + 1, size)\n",
    "    strides = a.strides + (a. strides[-1],)\n",
    "    return np.lib.stride_tricks.as_strided(a, shape=shape, strides=strides)\n",
    "\n",
    "def find_span(texts, spans, word_boundary=False):\n",
    "    texts = np.array(texts)\n",
    "    spans = np.array(spans)[:, 1:]\n",
    "    sizes = spans.argmin(axis=1) - 1\n",
    "    span_ranges = np.zeros((texts.shape[0], 2))\n",
    "    for i, text in enumerate(texts):\n",
    "        skips = 0\n",
    "        window_size = sizes[i]\n",
    "        if word_boundary:\n",
    "            allowed = set(texts[i])\n",
    "            if spans[i, 0] not in allowed and window_size > 1:\n",
    "                skips = 1\n",
    "            if spans[i, -1] not in allowed and window_size - skips > 1:\n",
    "                window_size -= 1\n",
    "        matched_window = rolling_window(texts[i], window_size - skips) == spans[i][skips:window_size]\n",
    "        window_from = matched_window.all(axis=1).argmax()\n",
    "        span_ranges[i, 0] = window_from\n",
    "        span_ranges[i, 1] = window_from + window_size - 1\n",
    "    return span_ranges\n",
    "\n",
    "def eprint(*args, **kwargs):\n",
    "    print(*args, **kwargs, file=sys.stderr)\n",
    "\n",
    "def print_mem_info():\n",
    "    info = tf.config.experimental.get_memory_info(\"/gpu:0\")\n",
    "    eprint(f\"GPU memory usage {(info[\"current\"] / info[\"peak\"]):.2f}.\")\n",
    "\n",
    "def context_embeddings(texts, sentiments, selected_texts=None):\n",
    "    text_tokens = tokenize(texts)\n",
    "    text_embeddings = encoder(**text_tokens).last_hidden_state\n",
    "    sentiment_tokens = tokenize(sentiments)\n",
    "    sentiment_embeddings = encoder(**sentiment_tokens).last_hidden_state[:, 1:2, :]  # only need embedding for one word\n",
    "    embeddings = tf.concat((text_embeddings, sentiment_embeddings), 1)\n",
    "    if selected_texts is None:\n",
    "        return embeddings\n",
    "    else:\n",
    "        selected_tokens = tokenize(selected_texts)\n",
    "        targets = find_span(text_tokens[\"input_ids\"], selected_tokens[\"input_ids\"], word_boundary=True)\n",
    "        return embeddings, targets\n",
    "\n",
    "def dataset_generator(texts, sentiments, selected_texts=None):\n",
    "    def gen():\n",
    "        total = len(texts)\n",
    "        yielded = 0\n",
    "        while yielded < total:\n",
    "            batch_i = yielded % inference_batch_size\n",
    "            # batch inferencing\n",
    "            if batch_i == 0:\n",
    "                end = min(total, yielded + inference_batch_size)\n",
    "                if selected_texts is None:\n",
    "                    embeddings = context_embeddings(texts[yielded:end], sentiments[yielded:end])\n",
    "                else:\n",
    "                    embeddings, targets = context_embeddings(texts[yielded:end], sentiments[yielded:end], selected_texts[yielded:end])\n",
    "            # feed the generator\n",
    "            if selected_texts is None:\n",
    "                yield embeddings[batch_i]\n",
    "            else:\n",
    "                yield embeddings[batch_i], (targets[batch_i, 0], targets[batch_i, 1])\n",
    "            yielded += 1\n",
    "    return gen"
   ]
  },
  {
   "cell_type": "markdown",
   "id": "b6f2be6b-b765-49c3-baf3-cfb900f02f42",
   "metadata": {},
   "source": [
    "Naive implementation, flattened embeddings into FFN with one hidden layer."
   ]
  },
  {
   "cell_type": "code",
   "execution_count": 4,
   "id": "98313e89-cfa9-4bd9-bf5b-6f305ea0d7e6",
   "metadata": {
    "scrolled": true
   },
   "outputs": [
    {
     "name": "stderr",
     "output_type": "stream",
     "text": [
      "I0000 00:00:1738516815.007711  162194 gpu_device.cc:2022] Created device /job:localhost/replica:0/task:0/device:GPU:0 with 21783 MB memory:  -> device: 0, name: NVIDIA GeForce RTX 3090, pci bus id: 0000:01:00.0, compute capability: 8.6\n",
      "Some weights of the PyTorch model were not used when initializing the TF 2.0 model TFDistilBertModel: ['vocab_projector.bias', 'vocab_layer_norm.bias', 'vocab_transform.weight', 'vocab_transform.bias', 'vocab_layer_norm.weight']\n",
      "- This IS expected if you are initializing TFDistilBertModel from a PyTorch model trained on another task or with another architecture (e.g. initializing a TFBertForSequenceClassification model from a BertForPreTraining model).\n",
      "- This IS NOT expected if you are initializing TFDistilBertModel from a PyTorch model that you expect to be exactly identical (e.g. initializing a TFBertForSequenceClassification model from a BertForSequenceClassification model).\n",
      "All the weights of TFDistilBertModel were initialized from the PyTorch model.\n",
      "If your task is similar to the task the model of the checkpoint was trained on, you can already use TFDistilBertModel for predictions without further training.\n"
     ]
    },
    {
     "name": "stdout",
     "output_type": "stream",
     "text": [
      "Epoch 1/10\n"
     ]
    },
    {
     "name": "stderr",
     "output_type": "stream",
     "text": [
      "WARNING: All log messages before absl::InitializeLog() is called are written to STDERR\n",
      "I0000 00:00:1738516822.645235  162373 service.cc:148] XLA service 0x7f720c0052f0 initialized for platform CUDA (this does not guarantee that XLA will be used). Devices:\n",
      "I0000 00:00:1738516822.645256  162373 service.cc:156]   StreamExecutor device (0): NVIDIA GeForce RTX 3090, Compute Capability 8.6\n",
      "2025-02-02 12:20:22.670607: I tensorflow/compiler/mlir/tensorflow/utils/dump_mlir_util.cc:268] disabling MLIR crash reproducer, set env var `MLIR_CRASH_REPRODUCER_DIRECTORY` to enable.\n",
      "I0000 00:00:1738516822.757277  162373 cuda_dnn.cc:529] Loaded cuDNN version 90300\n",
      "2025-02-02 12:20:23.504408: I external/local_xla/xla/stream_executor/cuda/cuda_asm_compiler.cc:397] ptxas warning : Registers are spilled to local memory in function 'gemm_fusion_dot', 192 bytes spill stores, 192 bytes spill loads\n",
      "\n",
      "2025-02-02 12:20:23.578193: I external/local_xla/xla/stream_executor/cuda/cuda_asm_compiler.cc:397] ptxas warning : Registers are spilled to local memory in function 'gemm_fusion_dot_1', 124 bytes spill stores, 124 bytes spill loads\n",
      "\n",
      "2025-02-02 12:20:23.663733: I external/local_xla/xla/stream_executor/cuda/cuda_asm_compiler.cc:397] ptxas warning : Registers are spilled to local memory in function 'gemm_fusion_dot_1', 188 bytes spill stores, 408 bytes spill loads\n",
      "\n",
      "2025-02-02 12:20:23.824539: I external/local_xla/xla/stream_executor/cuda/cuda_asm_compiler.cc:397] ptxas warning : Registers are spilled to local memory in function 'gemm_fusion_dot_1', 104 bytes spill stores, 104 bytes spill loads\n",
      "\n",
      "2025-02-02 12:20:23.913737: W external/local_xla/xla/service/hlo_rematerialization.cc:3005] Can't reduce memory use below 9.26GiB (9943207644 bytes) by rematerialization; only reduced to 12.12GiB (13017124200 bytes), down from 12.12GiB (13017124200 bytes) originally\n"
     ]
    },
    {
     "name": "stdout",
     "output_type": "stream",
     "text": [
      "      3/Unknown \u001b[1m8s\u001b[0m 66ms/step - end_loss: 23.3097 - end_sparse_categorical_accuracy: 0.0165 - loss: 94.3893 - start_loss: 71.0795 - start_sparse_categorical_accuracy: 0.2431"
     ]
    },
    {
     "name": "stderr",
     "output_type": "stream",
     "text": [
      "I0000 00:00:1738516824.369948  162373 device_compiler.h:188] Compiled cluster using XLA!  This line is logged at most once for the lifetime of the process.\n"
     ]
    },
    {
     "name": "stdout",
     "output_type": "stream",
     "text": [
      "    364/Unknown \u001b[1m68s\u001b[0m 165ms/step - end_loss: 16.1736 - end_sparse_categorical_accuracy: 0.3445 - loss: 32.3781 - start_loss: 16.2040 - start_sparse_categorical_accuracy: 0.5003 "
     ]
    },
    {
     "name": "stderr",
     "output_type": "stream",
     "text": [
      "2025-02-02 12:21:24.994161: I external/local_xla/xla/stream_executor/cuda/cuda_asm_compiler.cc:397] ptxas warning : Registers are spilled to local memory in function 'gemm_fusion_dot', 8 bytes spill stores, 8 bytes spill loads\n",
      "\n",
      "2025-02-02 12:21:25.066724: I external/local_xla/xla/stream_executor/cuda/cuda_asm_compiler.cc:397] ptxas warning : Registers are spilled to local memory in function 'gemm_fusion_dot', 4 bytes spill stores, 4 bytes spill loads\n",
      "\n",
      "2025-02-02 12:21:25.301943: I external/local_xla/xla/stream_executor/cuda/cuda_asm_compiler.cc:397] ptxas warning : Registers are spilled to local memory in function 'gemm_fusion_dot', 240 bytes spill stores, 240 bytes spill loads\n",
      "\n",
      "2025-02-02 12:21:25.516790: I external/local_xla/xla/stream_executor/cuda/cuda_asm_compiler.cc:397] ptxas warning : Registers are spilled to local memory in function 'gemm_fusion_dot_1', 20 bytes spill stores, 20 bytes spill loads\n",
      "\n",
      "2025-02-02 12:21:25.534776: I external/local_xla/xla/stream_executor/cuda/cuda_asm_compiler.cc:397] ptxas warning : Registers are spilled to local memory in function 'gemm_fusion_dot_1', 104 bytes spill stores, 104 bytes spill loads\n",
      "\n",
      "2025-02-02 12:21:25.548064: I external/local_xla/xla/stream_executor/cuda/cuda_asm_compiler.cc:397] ptxas warning : Registers are spilled to local memory in function 'gemm_fusion_dot_1', 940 bytes spill stores, 1176 bytes spill loads\n",
      "\n",
      "2025-02-02 12:21:25.572111: I external/local_xla/xla/stream_executor/cuda/cuda_asm_compiler.cc:397] ptxas warning : Registers are spilled to local memory in function 'gemm_fusion_dot_1', 112 bytes spill stores, 112 bytes spill loads\n",
      "\n",
      "2025-02-02 12:21:25.574537: I external/local_xla/xla/stream_executor/cuda/cuda_asm_compiler.cc:397] ptxas warning : Registers are spilled to local memory in function 'gemm_fusion_dot_1', 96 bytes spill stores, 96 bytes spill loads\n",
      "\n",
      "2025-02-02 12:21:25.642225: W external/local_xla/xla/service/hlo_rematerialization.cc:3005] Can't reduce memory use below 9.26GiB (9943960607 bytes) by rematerialization; only reduced to 12.12GiB (13017058664 bytes), down from 12.12GiB (13017058664 bytes) originally\n"
     ]
    },
    {
     "name": "stdout",
     "output_type": "stream",
     "text": [
      "    365/Unknown \u001b[1m70s\u001b[0m 170ms/step - end_loss: 16.1450 - end_sparse_categorical_accuracy: 0.3448 - loss: 32.3194 - start_loss: 16.1739 - start_sparse_categorical_accuracy: 0.5005"
     ]
    },
    {
     "name": "stderr",
     "output_type": "stream",
     "text": [
      "2025-02-02 12:21:26.217459: I tensorflow/core/framework/local_rendezvous.cc:405] Local rendezvous is aborting with status: OUT_OF_RANGE: End of sequence\n",
      "\t [[{{node IteratorGetNext}}]]\n",
      "2025-02-02 12:21:26.217483: I tensorflow/core/framework/local_rendezvous.cc:405] Local rendezvous is aborting with status: OUT_OF_RANGE: End of sequence\n",
      "\t [[{{node IteratorGetNext}}]]\n",
      "\t [[IteratorGetNext/_6]]\n",
      "2025-02-02 12:21:26.217492: I tensorflow/core/framework/local_rendezvous.cc:424] Local rendezvous recv item cancelled. Key hash: 16398267048219877601\n",
      "2025-02-02 12:21:26.217496: I tensorflow/core/framework/local_rendezvous.cc:424] Local rendezvous recv item cancelled. Key hash: 3308989629776575609\n",
      "2025-02-02 12:21:26.217505: I tensorflow/core/framework/local_rendezvous.cc:424] Local rendezvous recv item cancelled. Key hash: 14814014650914217945\n",
      "/home/yu/kaggle-tweet-sentiment/.venv/lib64/python3.12/site-packages/keras/src/trainers/epoch_iterator.py:151: UserWarning: Your input ran out of data; interrupting training. Make sure that your dataset or generator can generate at least `steps_per_epoch * epochs` batches. You may need to use the `.repeat()` function when building your dataset.\n",
      "  self._interrupted_warning()\n",
      "2025-02-02 12:21:36.157495: I external/local_xla/xla/stream_executor/cuda/cuda_asm_compiler.cc:397] ptxas warning : Registers are spilled to local memory in function 'gemm_fusion_dot', 4 bytes spill stores, 4 bytes spill loads\n",
      "\n",
      "2025-02-02 12:21:36.218648: I external/local_xla/xla/stream_executor/cuda/cuda_asm_compiler.cc:397] ptxas warning : Registers are spilled to local memory in function 'gemm_fusion_dot', 144 bytes spill stores, 144 bytes spill loads\n",
      "\n",
      "2025-02-02 12:21:36.336084: I external/local_xla/xla/stream_executor/cuda/cuda_asm_compiler.cc:397] ptxas warning : Registers are spilled to local memory in function 'gemm_fusion_dot_1', 940 bytes spill stores, 1176 bytes spill loads\n",
      "\n"
     ]
    },
    {
     "name": "stdout",
     "output_type": "stream",
     "text": [
      "\u001b[1m365/365\u001b[0m \u001b[32m━━━━━━━━━━━━━━━━━━━━\u001b[0m\u001b[37m\u001b[0m \u001b[1m80s\u001b[0m 198ms/step - end_loss: 16.1165 - end_sparse_categorical_accuracy: 0.3452 - loss: 32.2611 - start_loss: 16.1440 - start_sparse_categorical_accuracy: 0.5006 - val_end_loss: 1.7151 - val_end_sparse_categorical_accuracy: 0.5580 - val_loss: 3.2719 - val_start_loss: 1.5515 - val_start_sparse_categorical_accuracy: 0.5704\n",
      "Epoch 2/10\n"
     ]
    },
    {
     "name": "stderr",
     "output_type": "stream",
     "text": [
      "2025-02-02 12:21:36.609609: I tensorflow/core/framework/local_rendezvous.cc:405] Local rendezvous is aborting with status: OUT_OF_RANGE: End of sequence\n",
      "\t [[{{node IteratorGetNext}}]]\n",
      "\t [[IteratorGetNext/_6]]\n",
      "2025-02-02 12:21:36.609633: I tensorflow/core/framework/local_rendezvous.cc:424] Local rendezvous recv item cancelled. Key hash: 16398267048219877601\n",
      "2025-02-02 12:21:36.609639: I tensorflow/core/framework/local_rendezvous.cc:424] Local rendezvous recv item cancelled. Key hash: 3308989629776575609\n",
      "2025-02-02 12:21:36.609646: I tensorflow/core/framework/local_rendezvous.cc:424] Local rendezvous recv item cancelled. Key hash: 14814014650914217945\n"
     ]
    },
    {
     "name": "stdout",
     "output_type": "stream",
     "text": [
      "\u001b[1m364/365\u001b[0m \u001b[32m━━━━━━━━━━━━━━━━━━━\u001b[0m\u001b[37m━\u001b[0m \u001b[1m0s\u001b[0m 167ms/step - end_loss: 1.4779 - end_sparse_categorical_accuracy: 0.5969 - loss: 2.8710 - start_loss: 1.3930 - start_sparse_categorical_accuracy: 0.6017 "
     ]
    },
    {
     "name": "stderr",
     "output_type": "stream",
     "text": [
      "2025-02-02 12:22:41.077956: I tensorflow/core/framework/local_rendezvous.cc:424] Local rendezvous recv item cancelled. Key hash: 16398267048219877601\n",
      "2025-02-02 12:22:41.078017: I tensorflow/core/framework/local_rendezvous.cc:424] Local rendezvous recv item cancelled. Key hash: 3308989629776575609\n",
      "2025-02-02 12:22:41.078027: I tensorflow/core/framework/local_rendezvous.cc:424] Local rendezvous recv item cancelled. Key hash: 14814014650914217945\n"
     ]
    },
    {
     "name": "stdout",
     "output_type": "stream",
     "text": [
      "\u001b[1m365/365\u001b[0m \u001b[32m━━━━━━━━━━━━━━━━━━━━\u001b[0m\u001b[37m\u001b[0m \u001b[1m74s\u001b[0m 192ms/step - end_loss: 1.4775 - end_sparse_categorical_accuracy: 0.5970 - loss: 2.8704 - start_loss: 1.3928 - start_sparse_categorical_accuracy: 0.6017 - val_end_loss: 1.6837 - val_end_sparse_categorical_accuracy: 0.5541 - val_loss: 3.2215 - val_start_loss: 1.5310 - val_start_sparse_categorical_accuracy: 0.5762\n",
      "Epoch 3/10\n"
     ]
    },
    {
     "name": "stderr",
     "output_type": "stream",
     "text": [
      "2025-02-02 12:22:50.331400: I tensorflow/core/framework/local_rendezvous.cc:405] Local rendezvous is aborting with status: OUT_OF_RANGE: End of sequence\n",
      "\t [[{{node IteratorGetNext}}]]\n",
      "\t [[IteratorGetNext/_6]]\n",
      "2025-02-02 12:22:50.331428: I tensorflow/core/framework/local_rendezvous.cc:424] Local rendezvous recv item cancelled. Key hash: 16398267048219877601\n",
      "2025-02-02 12:22:50.331434: I tensorflow/core/framework/local_rendezvous.cc:424] Local rendezvous recv item cancelled. Key hash: 3308989629776575609\n",
      "2025-02-02 12:22:50.331442: I tensorflow/core/framework/local_rendezvous.cc:424] Local rendezvous recv item cancelled. Key hash: 14814014650914217945\n"
     ]
    },
    {
     "name": "stdout",
     "output_type": "stream",
     "text": [
      "\u001b[1m365/365\u001b[0m \u001b[32m━━━━━━━━━━━━━━━━━━━━\u001b[0m\u001b[37m\u001b[0m \u001b[1m75s\u001b[0m 195ms/step - end_loss: 1.1171 - end_sparse_categorical_accuracy: 0.6676 - loss: 2.2231 - start_loss: 1.1060 - start_sparse_categorical_accuracy: 0.6655 - val_end_loss: 1.8127 - val_end_sparse_categorical_accuracy: 0.5444 - val_loss: 3.4101 - val_start_loss: 1.5895 - val_start_sparse_categorical_accuracy: 0.5687\n",
      "Epoch 4/10\n"
     ]
    },
    {
     "name": "stderr",
     "output_type": "stream",
     "text": [
      "2025-02-02 12:24:04.903828: I tensorflow/core/framework/local_rendezvous.cc:424] Local rendezvous recv item cancelled. Key hash: 16398267048219877601\n",
      "2025-02-02 12:24:04.903855: I tensorflow/core/framework/local_rendezvous.cc:424] Local rendezvous recv item cancelled. Key hash: 3308989629776575609\n",
      "2025-02-02 12:24:04.903864: I tensorflow/core/framework/local_rendezvous.cc:424] Local rendezvous recv item cancelled. Key hash: 14814014650914217945\n"
     ]
    },
    {
     "name": "stdout",
     "output_type": "stream",
     "text": [
      "\u001b[1m364/365\u001b[0m \u001b[32m━━━━━━━━━━━━━━━━━━━\u001b[0m\u001b[37m━\u001b[0m \u001b[1m0s\u001b[0m 167ms/step - end_loss: 0.7840 - end_sparse_categorical_accuracy: 0.7582 - loss: 1.6193 - start_loss: 0.8353 - start_sparse_categorical_accuracy: 0.7337 "
     ]
    },
    {
     "name": "stderr",
     "output_type": "stream",
     "text": [
      "2025-02-02 12:25:09.319929: I tensorflow/core/framework/local_rendezvous.cc:424] Local rendezvous recv item cancelled. Key hash: 16398267048219877601\n",
      "2025-02-02 12:25:09.319951: I tensorflow/core/framework/local_rendezvous.cc:424] Local rendezvous recv item cancelled. Key hash: 3308989629776575609\n",
      "2025-02-02 12:25:09.319961: I tensorflow/core/framework/local_rendezvous.cc:424] Local rendezvous recv item cancelled. Key hash: 14814014650914217945\n"
     ]
    },
    {
     "name": "stdout",
     "output_type": "stream",
     "text": [
      "\u001b[1m365/365\u001b[0m \u001b[32m━━━━━━━━━━━━━━━━━━━━\u001b[0m\u001b[37m\u001b[0m \u001b[1m73s\u001b[0m 191ms/step - end_loss: 0.7838 - end_sparse_categorical_accuracy: 0.7583 - loss: 1.6189 - start_loss: 0.8351 - start_sparse_categorical_accuracy: 0.7338 - val_end_loss: 2.0545 - val_end_sparse_categorical_accuracy: 0.5340 - val_loss: 3.8263 - val_start_loss: 1.7692 - val_start_sparse_categorical_accuracy: 0.5502\n",
      "Epoch 5/10\n"
     ]
    },
    {
     "name": "stderr",
     "output_type": "stream",
     "text": [
      "2025-02-02 12:25:18.356483: I tensorflow/core/framework/local_rendezvous.cc:405] Local rendezvous is aborting with status: OUT_OF_RANGE: End of sequence\n",
      "\t [[{{node IteratorGetNext}}]]\n",
      "\t [[IteratorGetNext/_6]]\n",
      "2025-02-02 12:25:18.356512: I tensorflow/core/framework/local_rendezvous.cc:424] Local rendezvous recv item cancelled. Key hash: 16398267048219877601\n",
      "2025-02-02 12:25:18.356518: I tensorflow/core/framework/local_rendezvous.cc:424] Local rendezvous recv item cancelled. Key hash: 3308989629776575609\n",
      "2025-02-02 12:25:18.356527: I tensorflow/core/framework/local_rendezvous.cc:424] Local rendezvous recv item cancelled. Key hash: 14814014650914217945\n"
     ]
    },
    {
     "name": "stdout",
     "output_type": "stream",
     "text": [
      "\u001b[1m364/365\u001b[0m \u001b[32m━━━━━━━━━━━━━━━━━━━\u001b[0m\u001b[37m━\u001b[0m \u001b[1m0s\u001b[0m 168ms/step - end_loss: 0.5540 - end_sparse_categorical_accuracy: 0.8218 - loss: 1.1428 - start_loss: 0.5888 - start_sparse_categorical_accuracy: 0.8125 "
     ]
    },
    {
     "name": "stderr",
     "output_type": "stream",
     "text": [
      "2025-02-02 12:26:23.192376: I tensorflow/core/framework/local_rendezvous.cc:424] Local rendezvous recv item cancelled. Key hash: 16398267048219877601\n",
      "2025-02-02 12:26:23.192399: I tensorflow/core/framework/local_rendezvous.cc:424] Local rendezvous recv item cancelled. Key hash: 3308989629776575609\n",
      "2025-02-02 12:26:23.192408: I tensorflow/core/framework/local_rendezvous.cc:424] Local rendezvous recv item cancelled. Key hash: 14814014650914217945\n"
     ]
    },
    {
     "name": "stdout",
     "output_type": "stream",
     "text": [
      "\u001b[1m365/365\u001b[0m \u001b[32m━━━━━━━━━━━━━━━━━━━━\u001b[0m\u001b[37m\u001b[0m \u001b[1m74s\u001b[0m 193ms/step - end_loss: 0.5538 - end_sparse_categorical_accuracy: 0.8219 - loss: 1.1424 - start_loss: 0.5886 - start_sparse_categorical_accuracy: 0.8126 - val_end_loss: 2.1372 - val_end_sparse_categorical_accuracy: 0.5332 - val_loss: 4.1399 - val_start_loss: 1.9941 - val_start_sparse_categorical_accuracy: 0.5607\n",
      "Epoch 6/10\n"
     ]
    },
    {
     "name": "stderr",
     "output_type": "stream",
     "text": [
      "2025-02-02 12:26:32.361822: I tensorflow/core/framework/local_rendezvous.cc:424] Local rendezvous recv item cancelled. Key hash: 16398267048219877601\n",
      "2025-02-02 12:26:32.361848: I tensorflow/core/framework/local_rendezvous.cc:424] Local rendezvous recv item cancelled. Key hash: 3308989629776575609\n",
      "2025-02-02 12:26:32.361857: I tensorflow/core/framework/local_rendezvous.cc:424] Local rendezvous recv item cancelled. Key hash: 14814014650914217945\n"
     ]
    },
    {
     "name": "stdout",
     "output_type": "stream",
     "text": [
      "\u001b[1m365/365\u001b[0m \u001b[32m━━━━━━━━━━━━━━━━━━━━\u001b[0m\u001b[37m\u001b[0m \u001b[1m0s\u001b[0m 170ms/step - end_loss: 0.3937 - end_sparse_categorical_accuracy: 0.8719 - loss: 0.8004 - start_loss: 0.4067 - start_sparse_categorical_accuracy: 0.8661  "
     ]
    },
    {
     "name": "stderr",
     "output_type": "stream",
     "text": [
      "2025-02-02 12:27:38.050026: I tensorflow/core/framework/local_rendezvous.cc:424] Local rendezvous recv item cancelled. Key hash: 16398267048219877601\n",
      "2025-02-02 12:27:38.050065: I tensorflow/core/framework/local_rendezvous.cc:424] Local rendezvous recv item cancelled. Key hash: 3308989629776575609\n",
      "2025-02-02 12:27:38.050075: I tensorflow/core/framework/local_rendezvous.cc:424] Local rendezvous recv item cancelled. Key hash: 14814014650914217945\n"
     ]
    },
    {
     "name": "stdout",
     "output_type": "stream",
     "text": [
      "\u001b[1m365/365\u001b[0m \u001b[32m━━━━━━━━━━━━━━━━━━━━\u001b[0m\u001b[37m\u001b[0m \u001b[1m75s\u001b[0m 196ms/step - end_loss: 0.3936 - end_sparse_categorical_accuracy: 0.8719 - loss: 0.8003 - start_loss: 0.4067 - start_sparse_categorical_accuracy: 0.8661 - val_end_loss: 2.4839 - val_end_sparse_categorical_accuracy: 0.5269 - val_loss: 4.7173 - val_start_loss: 2.2210 - val_start_sparse_categorical_accuracy: 0.5854\n",
      "Epoch 7/10\n"
     ]
    },
    {
     "name": "stderr",
     "output_type": "stream",
     "text": [
      "2025-02-02 12:27:47.275721: I tensorflow/core/framework/local_rendezvous.cc:424] Local rendezvous recv item cancelled. Key hash: 16398267048219877601\n",
      "2025-02-02 12:27:47.275747: I tensorflow/core/framework/local_rendezvous.cc:424] Local rendezvous recv item cancelled. Key hash: 3308989629776575609\n",
      "2025-02-02 12:27:47.275756: I tensorflow/core/framework/local_rendezvous.cc:424] Local rendezvous recv item cancelled. Key hash: 14814014650914217945\n"
     ]
    },
    {
     "name": "stdout",
     "output_type": "stream",
     "text": [
      "\u001b[1m364/365\u001b[0m \u001b[32m━━━━━━━━━━━━━━━━━━━\u001b[0m\u001b[37m━\u001b[0m \u001b[1m0s\u001b[0m 168ms/step - end_loss: 0.2874 - end_sparse_categorical_accuracy: 0.9045 - loss: 0.5777 - start_loss: 0.2903 - start_sparse_categorical_accuracy: 0.9038  "
     ]
    },
    {
     "name": "stderr",
     "output_type": "stream",
     "text": [
      "2025-02-02 12:28:52.390574: I tensorflow/core/framework/local_rendezvous.cc:424] Local rendezvous recv item cancelled. Key hash: 16398267048219877601\n",
      "2025-02-02 12:28:52.390596: I tensorflow/core/framework/local_rendezvous.cc:424] Local rendezvous recv item cancelled. Key hash: 3308989629776575609\n",
      "2025-02-02 12:28:52.390605: I tensorflow/core/framework/local_rendezvous.cc:424] Local rendezvous recv item cancelled. Key hash: 14814014650914217945\n"
     ]
    },
    {
     "name": "stdout",
     "output_type": "stream",
     "text": [
      "\u001b[1m365/365\u001b[0m \u001b[32m━━━━━━━━━━━━━━━━━━━━\u001b[0m\u001b[37m\u001b[0m \u001b[1m75s\u001b[0m 194ms/step - end_loss: 0.2873 - end_sparse_categorical_accuracy: 0.9046 - loss: 0.5775 - start_loss: 0.2902 - start_sparse_categorical_accuracy: 0.9039 - val_end_loss: 2.6301 - val_end_sparse_categorical_accuracy: 0.5391 - val_loss: 5.0700 - val_start_loss: 2.4309 - val_start_sparse_categorical_accuracy: 0.5832\n",
      "Epoch 8/10\n"
     ]
    },
    {
     "name": "stderr",
     "output_type": "stream",
     "text": [
      "2025-02-02 12:29:01.844165: I tensorflow/core/framework/local_rendezvous.cc:424] Local rendezvous recv item cancelled. Key hash: 16398267048219877601\n",
      "2025-02-02 12:29:01.844202: I tensorflow/core/framework/local_rendezvous.cc:424] Local rendezvous recv item cancelled. Key hash: 3308989629776575609\n",
      "2025-02-02 12:29:01.844212: I tensorflow/core/framework/local_rendezvous.cc:424] Local rendezvous recv item cancelled. Key hash: 14814014650914217945\n"
     ]
    },
    {
     "name": "stdout",
     "output_type": "stream",
     "text": [
      "\u001b[1m364/365\u001b[0m \u001b[32m━━━━━━━━━━━━━━━━━━━\u001b[0m\u001b[37m━\u001b[0m \u001b[1m0s\u001b[0m 167ms/step - end_loss: 0.2176 - end_sparse_categorical_accuracy: 0.9281 - loss: 0.4285 - start_loss: 0.2108 - start_sparse_categorical_accuracy: 0.9309 "
     ]
    },
    {
     "name": "stderr",
     "output_type": "stream",
     "text": [
      "2025-02-02 12:30:06.269178: I tensorflow/core/framework/local_rendezvous.cc:424] Local rendezvous recv item cancelled. Key hash: 16398267048219877601\n",
      "2025-02-02 12:30:06.269226: I tensorflow/core/framework/local_rendezvous.cc:424] Local rendezvous recv item cancelled. Key hash: 3308989629776575609\n",
      "2025-02-02 12:30:06.269235: I tensorflow/core/framework/local_rendezvous.cc:424] Local rendezvous recv item cancelled. Key hash: 14814014650914217945\n"
     ]
    },
    {
     "name": "stdout",
     "output_type": "stream",
     "text": [
      "\u001b[1m365/365\u001b[0m \u001b[32m━━━━━━━━━━━━━━━━━━━━\u001b[0m\u001b[37m\u001b[0m \u001b[1m73s\u001b[0m 191ms/step - end_loss: 0.2176 - end_sparse_categorical_accuracy: 0.9282 - loss: 0.4284 - start_loss: 0.2108 - start_sparse_categorical_accuracy: 0.9309 - val_end_loss: 2.8588 - val_end_sparse_categorical_accuracy: 0.5291 - val_loss: 5.4450 - val_start_loss: 2.5621 - val_start_sparse_categorical_accuracy: 0.5582\n",
      "Epoch 9/10\n"
     ]
    },
    {
     "name": "stderr",
     "output_type": "stream",
     "text": [
      "2025-02-02 12:30:15.318018: I tensorflow/core/framework/local_rendezvous.cc:405] Local rendezvous is aborting with status: OUT_OF_RANGE: End of sequence\n",
      "\t [[{{node IteratorGetNext}}]]\n",
      "\t [[IteratorGetNext/_6]]\n",
      "2025-02-02 12:30:15.318046: I tensorflow/core/framework/local_rendezvous.cc:424] Local rendezvous recv item cancelled. Key hash: 16398267048219877601\n",
      "2025-02-02 12:30:15.318052: I tensorflow/core/framework/local_rendezvous.cc:424] Local rendezvous recv item cancelled. Key hash: 3308989629776575609\n",
      "2025-02-02 12:30:15.318060: I tensorflow/core/framework/local_rendezvous.cc:424] Local rendezvous recv item cancelled. Key hash: 14814014650914217945\n"
     ]
    },
    {
     "name": "stdout",
     "output_type": "stream",
     "text": [
      "\u001b[1m365/365\u001b[0m \u001b[32m━━━━━━━━━━━━━━━━━━━━\u001b[0m\u001b[37m\u001b[0m \u001b[1m0s\u001b[0m 169ms/step - end_loss: 0.2142 - end_sparse_categorical_accuracy: 0.9281 - loss: 0.4065 - start_loss: 0.1923 - start_sparse_categorical_accuracy: 0.9345 "
     ]
    },
    {
     "name": "stderr",
     "output_type": "stream",
     "text": [
      "2025-02-02 12:31:20.470012: I tensorflow/core/framework/local_rendezvous.cc:424] Local rendezvous recv item cancelled. Key hash: 16398267048219877601\n",
      "2025-02-02 12:31:20.470093: I tensorflow/core/framework/local_rendezvous.cc:424] Local rendezvous recv item cancelled. Key hash: 3308989629776575609\n",
      "2025-02-02 12:31:20.470104: I tensorflow/core/framework/local_rendezvous.cc:424] Local rendezvous recv item cancelled. Key hash: 14814014650914217945\n"
     ]
    },
    {
     "name": "stdout",
     "output_type": "stream",
     "text": [
      "\u001b[1m365/365\u001b[0m \u001b[32m━━━━━━━━━━━━━━━━━━━━\u001b[0m\u001b[37m\u001b[0m \u001b[1m74s\u001b[0m 194ms/step - end_loss: 0.2142 - end_sparse_categorical_accuracy: 0.9281 - loss: 0.4064 - start_loss: 0.1922 - start_sparse_categorical_accuracy: 0.9345 - val_end_loss: 3.1292 - val_end_sparse_categorical_accuracy: 0.5403 - val_loss: 6.0057 - val_start_loss: 2.8621 - val_start_sparse_categorical_accuracy: 0.5643\n",
      "Epoch 10/10\n"
     ]
    },
    {
     "name": "stderr",
     "output_type": "stream",
     "text": [
      "2025-02-02 12:31:29.734489: I tensorflow/core/framework/local_rendezvous.cc:424] Local rendezvous recv item cancelled. Key hash: 16398267048219877601\n",
      "2025-02-02 12:31:29.734514: I tensorflow/core/framework/local_rendezvous.cc:424] Local rendezvous recv item cancelled. Key hash: 3308989629776575609\n",
      "2025-02-02 12:31:29.734523: I tensorflow/core/framework/local_rendezvous.cc:424] Local rendezvous recv item cancelled. Key hash: 14814014650914217945\n"
     ]
    },
    {
     "name": "stdout",
     "output_type": "stream",
     "text": [
      "\u001b[1m365/365\u001b[0m \u001b[32m━━━━━━━━━━━━━━━━━━━━\u001b[0m\u001b[37m\u001b[0m \u001b[1m0s\u001b[0m 168ms/step - end_loss: 0.2069 - end_sparse_categorical_accuracy: 0.9292 - loss: 0.3898 - start_loss: 0.1829 - start_sparse_categorical_accuracy: 0.9386  "
     ]
    },
    {
     "name": "stderr",
     "output_type": "stream",
     "text": [
      "2025-02-02 12:32:34.589595: I tensorflow/core/framework/local_rendezvous.cc:424] Local rendezvous recv item cancelled. Key hash: 16398267048219877601\n",
      "2025-02-02 12:32:34.589620: I tensorflow/core/framework/local_rendezvous.cc:424] Local rendezvous recv item cancelled. Key hash: 3308989629776575609\n",
      "2025-02-02 12:32:34.589629: I tensorflow/core/framework/local_rendezvous.cc:424] Local rendezvous recv item cancelled. Key hash: 14814014650914217945\n"
     ]
    },
    {
     "name": "stdout",
     "output_type": "stream",
     "text": [
      "\u001b[1m365/365\u001b[0m \u001b[32m━━━━━━━━━━━━━━━━━━━━\u001b[0m\u001b[37m\u001b[0m \u001b[1m74s\u001b[0m 192ms/step - end_loss: 0.2069 - end_sparse_categorical_accuracy: 0.9292 - loss: 0.3898 - start_loss: 0.1829 - start_sparse_categorical_accuracy: 0.9386 - val_end_loss: 3.5610 - val_end_sparse_categorical_accuracy: 0.5412 - val_loss: 6.7605 - val_start_loss: 3.1759 - val_start_sparse_categorical_accuracy: 0.5631\n"
     ]
    },
    {
     "name": "stderr",
     "output_type": "stream",
     "text": [
      "2025-02-02 12:32:43.541545: I tensorflow/core/framework/local_rendezvous.cc:424] Local rendezvous recv item cancelled. Key hash: 16398267048219877601\n",
      "2025-02-02 12:32:43.541572: I tensorflow/core/framework/local_rendezvous.cc:424] Local rendezvous recv item cancelled. Key hash: 3308989629776575609\n",
      "2025-02-02 12:32:43.541580: I tensorflow/core/framework/local_rendezvous.cc:424] Local rendezvous recv item cancelled. Key hash: 14814014650914217945\n"
     ]
    }
   ],
   "source": [
    "inputs = keras.Input(shape=(1 + max_text_len, 768))\n",
    "flat = layers.Flatten()(inputs)\n",
    "hidden = layers.Dense(8192, activation=\"relu\", kernel_regularizer=\"l1l2\", bias_regularizer=\"l2\")(flat)\n",
    "softmax_start = layers.Dense(max_text_len, activation=\"softmax\", name=\"start\", kernel_regularizer=\"l1l2\", bias_regularizer=\"l2\")(hidden)\n",
    "softmax_end = layers.Dense(max_text_len, activation=\"softmax\", name=\"end\", kernel_regularizer=\"l1l2\", bias_regularizer=\"l2\")(hidden)\n",
    "ffn = keras.Model(inputs=inputs, outputs=(softmax_start, softmax_end))\n",
    "ffn.compile(\n",
    "    optimizer=optimizers.Adam(),\n",
    "    loss={\"start\": losses.SparseCategoricalCrossentropy(), \"end\": losses.SparseCategoricalCrossentropy()},\n",
    "    metrics={\"start\": metrics.SparseCategoricalAccuracy(), \"end\": metrics.SparseCategoricalAccuracy()}\n",
    ")\n",
    "\n",
    "tokenizer = AutoTokenizer.from_pretrained(\"distilbert-base-uncased\")\n",
    "encoder = TFAutoModel.from_pretrained(\"distilbert-base-uncased\")\n",
    "dataset_train = tf.data.Dataset.from_generator(\n",
    "    dataset_generator(train.text.to_list(), train.sentiment.to_list(), train.selected_text.to_list()),\n",
    "    output_signature=(tf.TensorSpec(shape=(1 + max_text_len, 768)), (tf.TensorSpec(shape=()), tf.TensorSpec(shape=())))\n",
    ").shuffle(inference_batch_size)\n",
    "dataset_test = tf.data.Dataset.from_generator(\n",
    "    dataset_generator(test.text.to_list(), test.sentiment.to_list(), test.selected_text.to_list()),\n",
    "    output_signature=(tf.TensorSpec(shape=(1 + max_text_len, 768)), (tf.TensorSpec(shape=()), tf.TensorSpec(shape=())))\n",
    ")\n",
    "history = ffn.fit(dataset_train.batch(64), epochs=10, validation_data=dataset_test.batch(64))"
   ]
  },
  {
   "cell_type": "code",
   "execution_count": 5,
   "id": "cc613c17-5308-43d2-9faf-6446fe5f3218",
   "metadata": {},
   "outputs": [
    {
     "name": "stdout",
     "output_type": "stream",
     "text": [
      "\u001b[1m65/65\u001b[0m \u001b[32m━━━━━━━━━━━━━━━━━━━━\u001b[0m\u001b[37m\u001b[0m \u001b[1m10s\u001b[0m 121ms/step\n"
     ]
    },
    {
     "data": {
      "text/plain": [
       "0.11111242392803983"
      ]
     },
     "execution_count": 5,
     "metadata": {},
     "output_type": "execute_result"
    }
   ],
   "source": [
    "# https://www.kaggle.com/competitions/tweet-sentiment-extraction\n",
    "def jaccard(str1, str2):\n",
    "    a = set(str1.lower().split())\n",
    "    b = set(str2.lower().split())\n",
    "    c = a.intersection(b)\n",
    "    return float(len(c)) / (len(a) + len(b) - len(c))\n",
    "\n",
    "score = 0\n",
    "total = test.shape[0]\n",
    "(y_start, y_end) = ffn.predict(dataset_test.batch(64))\n",
    "y_start = tf.math.argmax(y_start, axis=1)\n",
    "y_end = tf.math.argmax(y_end, axis=1) + 1\n",
    "spans_pred = []\n",
    "for i in range(total):\n",
    "    span_start = y_start[i]\n",
    "    span_end = y_end[i]\n",
    "    y_str = test.text.iloc[i][span_start:span_end]\n",
    "    spans_pred.append((test.text.iloc[i], y_str))\n",
    "    t_str = test.selected_text.iloc[i]\n",
    "    score += 1 / total * jaccard(y_str, t_str)\n",
    "score"
   ]
  },
  {
   "cell_type": "code",
   "execution_count": 6,
   "id": "5a8bd123-b742-41bb-9d89-2fb8be18a9b2",
   "metadata": {},
   "outputs": [
    {
     "data": {
      "text/plain": [
       "Text(0.5, 0, 'Epoch')"
      ]
     },
     "execution_count": 6,
     "metadata": {},
     "output_type": "execute_result"
    },
    {
     "data": {
      "image/png": "[encoded data removed]",
      "text/plain": [
       "<Figure size 700x700 with 2 Axes>"
      ]
     },
     "metadata": {},
     "output_type": "display_data"
    }
   ],
   "source": [
    "fig, (ax1, ax2) = plt.subplots(2, 1, figsize=(7, 7))\n",
    "\n",
    "ax1.plot(history.history[\"start_sparse_categorical_accuracy\"])\n",
    "ax1.plot(history.history[\"val_start_sparse_categorical_accuracy\"])\n",
    "ax1.legend([\"Training\", \"Validation\"])\n",
    "ax1.title.set_text(\"CCE Accuracy (Start)\")\n",
    "\n",
    "ax2.plot(history.history[\"end_sparse_categorical_accuracy\"])\n",
    "ax2.plot(history.history[\"val_end_sparse_categorical_accuracy\"])\n",
    "ax2.legend([\"Training\", \"Validation\"])\n",
    "ax2.title.set_text(\"CCE Accuracy (End)\")\n",
    "\n",
    "plt.xlabel(\"Epoch\")"
   ]
  },
  {
   "cell_type": "code",
   "execution_count": null,
   "id": "99b0bfc4-82d1-4ea1-a938-b6c86437d55d",
   "metadata": {},
   "outputs": [],
   "source": []
  }
 ],
 "metadata": {
  "kernelspec": {
   "display_name": "Python 3 (ipykernel)",
   "language": "python",
   "name": "python3"
  },
  "language_info": {
   "codemirror_mode": {
    "name": "ipython",
    "version": 3
   },
   "file_extension": ".py",
   "mimetype": "text/x-python",
   "name": "python",
   "nbconvert_exporter": "python",
   "pygments_lexer": "ipython3",
   "version": "3.12.8"
  }
 },
 "nbformat": 4,
 "nbformat_minor": 5
}
